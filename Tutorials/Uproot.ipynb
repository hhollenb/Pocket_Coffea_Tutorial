{
 "cells": [
  {
   "cell_type": "markdown",
   "id": "45c5f667",
   "metadata": {},
   "source": [
    "# Uproot Tutorial"
   ]
  },
  {
   "cell_type": "markdown",
   "id": "49587bc7",
   "metadata": {},
   "source": [
    "Uproot is a Python library whose sole function is to read and write ROOT files. It should be noted that this library does not perform analysis, graphics, or any other tasks; its purpose is exclusively data input and output (I/O).\n",
    "\n",
    "For all other operations, Uproot integrates seamlessly with the Python scientific ecosystem, such as NumPy, Awkward Array, and Pandas for calculations, or matplotlib and hist for histograms.\n",
    "\n",
    "We will use an MC simulation file of the event Z $\\rightarrow$ $\\mu$ $\\mu$.\n"
   ]
  },
  {
   "cell_type": "markdown",
   "id": "48e8ffa1",
   "metadata": {},
   "source": [
    "### 1. Reading the Dataset\n",
    "\n",
    "First, we import uproot and open a direct connection to the remote file using its URL. Then, we inspect its contents to understand what data we have available in the ntuple."
   ]
  },
  {
   "cell_type": "code",
   "execution_count": 11,
   "id": "b4de765d",
   "metadata": {},
   "outputs": [],
   "source": [
    "import uproot\n",
    "\n",
    "file = uproot.open(\n",
    "    \"root://eospublic.cern.ch//eos/opendata/cms/derived-data/AOD2NanoAODOutreachTool/Run2012BC_DoubleMuParked_Muons.root\"\n",
    ")"
   ]
  },
  {
   "cell_type": "markdown",
   "id": "68092bd8",
   "metadata": {},
   "source": [
    "The object file created by uproot behaves very much like a Python dictionary, allowing you to inspect its contents efficiently.\n",
    "\n",
    "If we only want a list of the names of all objects stored in the file, we can use the .keys() method."
   ]
  },
  {
   "cell_type": "code",
   "execution_count": 12,
   "id": "52053741",
   "metadata": {},
   "outputs": [
    {
     "data": {
      "text/plain": [
       "['Events;75', 'Events;74']"
      ]
     },
     "execution_count": 12,
     "metadata": {},
     "output_type": "execute_result"
    }
   ],
   "source": [
    "file.keys()"
   ]
  },
  {
   "cell_type": "markdown",
   "id": "ec585fad",
   "metadata": {},
   "source": [
    " This operation is very fast because it does not need to read the object data. It is the equivalent in uproot to the ROOT command .ls, but it returns a standard Python list."
   ]
  },
  {
   "cell_type": "markdown",
   "id": "f26e68e1",
   "metadata": {},
   "source": [
    "Similarly, to find out what type of object is stored (a TTree, a TH1F histogram, etc.), it is more useful to use the  .classnames()method."
   ]
  },
  {
   "cell_type": "code",
   "execution_count": 13,
   "id": "aa020786",
   "metadata": {},
   "outputs": [
    {
     "data": {
      "text/plain": [
       "{'Events;75': 'TTree', 'Events;74': 'TTree'}"
      ]
     },
     "execution_count": 13,
     "metadata": {},
     "output_type": "execute_result"
    }
   ],
   "source": [
    "file.classnames()"
   ]
  },
  {
   "cell_type": "markdown",
   "id": "a8580b6e",
   "metadata": {},
   "source": [
    "This method returns a dictionary that associates the name of each object with the name of its class. Like .keys(), it is a very efficient operation that does not load heavy data from the file."
   ]
  },
  {
   "cell_type": "code",
   "execution_count": 14,
   "id": "3ee00fc2",
   "metadata": {},
   "outputs": [
    {
     "name": "stdout",
     "output_type": "stream",
     "text": [
      "name                 | typename                 | interpretation                \n",
      "---------------------+--------------------------+-------------------------------\n",
      "nMuon                | uint32_t                 | AsDtype('>u4')\n",
      "Muon_pt              | float[]                  | AsJagged(AsDtype('>f4'))\n",
      "Muon_eta             | float[]                  | AsJagged(AsDtype('>f4'))\n",
      "Muon_phi             | float[]                  | AsJagged(AsDtype('>f4'))\n",
      "Muon_mass            | float[]                  | AsJagged(AsDtype('>f4'))\n",
      "Muon_charge          | int32_t[]                | AsJagged(AsDtype('>i4'))\n"
     ]
    }
   ],
   "source": [
    "tree = file[\"Events\"]\n",
    "tree.show()"
   ]
  },
  {
   "cell_type": "markdown",
   "id": "cf2d490a",
   "metadata": {},
   "source": [
    "When executing .show() on the tree object, a detailed summary of all variables (or “branches”) available for analysis is printed."
   ]
  },
  {
   "cell_type": "code",
   "execution_count": 15,
   "id": "f7fb34b5",
   "metadata": {},
   "outputs": [
    {
     "data": {
      "text/html": [
       "<pre>[2,\n",
       " 2,\n",
       " 2,\n",
       " 2,\n",
       " 2,\n",
       " 2,\n",
       " 2,\n",
       " 2,\n",
       " 1,\n",
       " 2,\n",
       " ...,\n",
       " 2,\n",
       " 2,\n",
       " 2,\n",
       " 4,\n",
       " 4,\n",
       " 1,\n",
       " 3,\n",
       " 4,\n",
       " 3]\n",
       "-------------------\n",
       "type: 1000 * uint32</pre>"
      ],
      "text/plain": [
       "<Array [2, 2, 2, 2, 2, 2, 2, 2, ..., 2, 4, 4, 1, 3, 4, 3] type='1000 * uint32'>"
      ]
     },
     "execution_count": 15,
     "metadata": {},
     "output_type": "execute_result"
    }
   ],
   "source": [
    "# tree[\"nMuon\"].array()\n",
    "tree[\"nMuon\"].array(entry_start=1_000, entry_stop=2_000)"
   ]
  },
  {
   "cell_type": "markdown",
   "id": "70455e94",
   "metadata": {},
   "source": [
    "The .array()/.awkward() method reads the data and converts it into a NumPy or Awkward array."
   ]
  },
  {
   "cell_type": "markdown",
   "id": "8f38d16c",
   "metadata": {},
   "source": [
    "### 2. Reading Multiple TBranches at Once\n",
    "\n",
    "To read multiple branches, we use the .arrays() method to read data. The difference is that now, instead of passing the name of a single branch, we pass it a list of branch names."
   ]
  },
  {
   "cell_type": "code",
   "execution_count": 16,
   "id": "655cd634",
   "metadata": {},
   "outputs": [],
   "source": [
    "Muons = tree.arrays([\"Muon_pt\", \"Muon_eta\", \"Muon_phi\", \"Muon_mass\"])"
   ]
  },
  {
   "cell_type": "code",
   "execution_count": 17,
   "id": "b1b49065",
   "metadata": {},
   "outputs": [
    {
     "data": {
      "text/html": [
       "<pre>[{Muon_pt: [10.8, 15.7], Muon_eta: [1.07, -0.564], Muon_phi: [...], ...},\n",
       " {Muon_pt: [10.5, 16.3], Muon_eta: [-0.428, ...], Muon_phi: [...], ...},\n",
       " {Muon_pt: [3.28], Muon_eta: [2.21], Muon_phi: [-1.22], Muon_mass: ..., ...},\n",
       " {Muon_pt: [11.4, 17.6, 9.62, 3.5], Muon_eta: [-1.59, ...], Muon_phi: ..., ...},\n",
       " {Muon_pt: [3.28, 3.64, 32.9, 23.7], Muon_eta: [-2.17, ...], ...},\n",
       " {Muon_pt: [3.57, 4.57, 4.37], Muon_eta: [-1.37, ...], Muon_phi: [...], ...},\n",
       " {Muon_pt: [57.6, 53], Muon_eta: [-0.532, -1], Muon_phi: [...], ...},\n",
       " {Muon_pt: [11.3, 23.9], Muon_eta: [-0.772, ...], Muon_phi: [...], ...},\n",
       " {Muon_pt: [10.2, 14.2], Muon_eta: [0.442, 0.702], Muon_phi: [...], ...},\n",
       " {Muon_pt: [11.5, 3.47], Muon_eta: [2.34, 2.35], Muon_phi: [...], ...},\n",
       " ...,\n",
       " {Muon_pt: [8.23, 29.7], Muon_eta: [0.252, 0.275], Muon_phi: [...], ...},\n",
       " {Muon_pt: [25.4, 25.4], Muon_eta: [1.27, 1.29], Muon_phi: [...], ...},\n",
       " {Muon_pt: [61.7, 27.7], Muon_eta: [0.964, ...], Muon_phi: [...], ...},\n",
       " {Muon_pt: [44.3, 21, 4.29], Muon_eta: [-0.728, ...], Muon_phi: [...], ...},\n",
       " {Muon_pt: [10.8, 41.6], Muon_eta: [0.154, ...], Muon_phi: [...], ...},\n",
       " {Muon_pt: [11.8, 12.2], Muon_eta: [-1.92, 0.378], Muon_phi: [...], ...},\n",
       " {Muon_pt: [29.2, 18.1, 12.2, 12.2], Muon_eta: [-0.566, ...], ...},\n",
       " {Muon_pt: [5.87, 45.4, 8.24], Muon_eta: [-1.47, ...], Muon_phi: [...], ...},\n",
       " {Muon_pt: [27.7, 20], Muon_eta: [-2.15, 0.291], Muon_phi: [...], ...}]\n",
       "--------------------------------------------------------------------------------\n",
       "type: 61540413 * {\n",
       "    Muon_pt: var * float32,\n",
       "    Muon_eta: var * float32,\n",
       "    Muon_phi: var * float32,\n",
       "    Muon_mass: var * float32\n",
       "}</pre>"
      ],
      "text/plain": [
       "<Array [{Muon_pt: [...], ...}, ..., {...}] type='61540413 * {Muon_pt: var *...'>"
      ]
     },
     "execution_count": 17,
     "metadata": {},
     "output_type": "execute_result"
    }
   ],
   "source": [
    "Muons"
   ]
  },
  {
   "cell_type": "markdown",
   "id": "598b3c84",
   "metadata": {},
   "source": [
    "Finally, uproot reads all these branches and returns them as a single  Array in the Jets variable. This array has a special structure, similar to a “record” or a dictionary, where each of the branches we requested becomes a field in this array."
   ]
  },
  {
   "cell_type": "markdown",
   "id": "b092e4d1",
   "metadata": {},
   "source": [
    "### 3. Selecting TBranches by name\n",
    "\n",
    "We can use the filter_name argument to select branches based on a pattern instead of having to write each name in a list."
   ]
  },
  {
   "cell_type": "code",
   "execution_count": 24,
   "id": "21a73bdf",
   "metadata": {},
   "outputs": [
    {
     "data": {
      "text/html": [
       "<pre>[{Muon_pt: [10.8, 15.7], Muon_eta: [1.07, -0.564], Muon_phi: [...], ...},\n",
       " {Muon_pt: [10.5, 16.3], Muon_eta: [-0.428, ...], Muon_phi: [...], ...},\n",
       " {Muon_pt: [3.28], Muon_eta: [2.21], Muon_phi: [-1.22], Muon_mass: ..., ...},\n",
       " {Muon_pt: [11.4, 17.6, 9.62, 3.5], Muon_eta: [-1.59, ...], Muon_phi: ..., ...},\n",
       " {Muon_pt: [3.28, 3.64, 32.9, 23.7], Muon_eta: [-2.17, ...], ...},\n",
       " {Muon_pt: [3.57, 4.57, 4.37], Muon_eta: [-1.37, ...], Muon_phi: [...], ...},\n",
       " {Muon_pt: [57.6, 53], Muon_eta: [-0.532, -1], Muon_phi: [...], ...},\n",
       " {Muon_pt: [11.3, 23.9], Muon_eta: [-0.772, ...], Muon_phi: [...], ...},\n",
       " {Muon_pt: [10.2, 14.2], Muon_eta: [0.442, 0.702], Muon_phi: [...], ...},\n",
       " {Muon_pt: [11.5, 3.47], Muon_eta: [2.34, 2.35], Muon_phi: [...], ...},\n",
       " ...,\n",
       " {Muon_pt: [3.13, 16.9, 11], Muon_eta: [-1.43, ...], Muon_phi: [...], ...},\n",
       " {Muon_pt: [34.2, 14], Muon_eta: [-0.913, ...], Muon_phi: [...], ...},\n",
       " {Muon_pt: [14, 8.19], Muon_eta: [-0.409, ...], Muon_phi: [...], ...},\n",
       " {Muon_pt: [30.6], Muon_eta: [0.696], Muon_phi: [-1.95], Muon_mass: ..., ...},\n",
       " {Muon_pt: [22.1, 12.9, 13.4], Muon_eta: [1.97, ...], Muon_phi: [...], ...},\n",
       " {Muon_pt: [10.1, 4.34], Muon_eta: [0.833, 1.95], Muon_phi: [...], ...},\n",
       " {Muon_pt: [4.36, 15.1, 12.4], Muon_eta: [1.05, ...], Muon_phi: [...], ...},\n",
       " {Muon_pt: [17.7, 4.61, 8.79, 5.14], Muon_eta: [0.587, ...], ...},\n",
       " {Muon_pt: [28.9, 8.62, 4.51], Muon_eta: [0.917, ...], Muon_phi: [...], ...}]\n",
       "--------------------------------------------------------------------------------\n",
       "type: 1000 * {\n",
       "    Muon_pt: var * float32,\n",
       "    Muon_eta: var * float32,\n",
       "    Muon_phi: var * float32,\n",
       "    Muon_mass: var * float32,\n",
       "    Muon_charge: var * int32\n",
       "}</pre>"
      ],
      "text/plain": [
       "<Array [{Muon_pt: [...], ...}, ..., {...}] type='1000 * {Muon_pt: var * flo...'>"
      ]
     },
     "execution_count": 24,
     "metadata": {},
     "output_type": "execute_result"
    }
   ],
   "source": [
    "tree.keys(filter_name=\"Muon_*\")\n",
    "\n",
    "tree.arrays(filter_name=\"Muon_*\", entry_stop=1_000)"
   ]
  },
  {
   "cell_type": "markdown",
   "id": "098e3abe",
   "metadata": {},
   "source": [
    "The asterisk (*) acts as a wildcard that matches any sequence of characters."
   ]
  },
  {
   "cell_type": "markdown",
   "id": "b5435109",
   "metadata": {},
   "source": [
    "### 4. Scaling up, making a plot\n",
    "\n",
    "We first read all branches from the TTree for the first 1,000 events and stores them in a single, structured Awkward Array called Muons."
   ]
  },
  {
   "cell_type": "code",
   "execution_count": 25,
   "id": "e264dfbf",
   "metadata": {},
   "outputs": [],
   "source": [
    "Muons = tree.arrays(entry_stop=1_000)\n",
    "\n",
    "cut = Muons[\"nMuon\"] >= 2\n",
    "\n",
    "pt0 = Muons[\"Muon_pt\", cut, 0]\n",
    "pt1 = Muons[\"Muon_pt\", cut, 1]\n",
    "\n",
    "eta0 = Muons[\"Muon_eta\", cut, 0]\n",
    "eta1 = Muons[\"Muon_eta\", cut, 1]\n",
    "\n",
    "phi0 = Muons[\"Muon_phi\", cut, 0]\n",
    "phi1 = Muons[\"Muon_phi\", cut, 1]"
   ]
  },
  {
   "cell_type": "code",
   "execution_count": 26,
   "id": "621fd000",
   "metadata": {},
   "outputs": [],
   "source": [
    "import numpy as np\n",
    "import hist\n",
    "\n",
    "massdimuon = np.sqrt(2*pt0*pt1*(np.cosh(eta0-eta1) - np.cos(phi0 - phi1)))"
   ]
  },
  {
   "cell_type": "code",
   "execution_count": 27,
   "id": "4ddc62a1",
   "metadata": {},
   "outputs": [
    {
     "data": {
      "text/plain": [
       "[StairsArtists(stairs=<matplotlib.patches.StepPatch object at 0x7f458e7109d0>, errorbar=<ErrorbarContainer object of 3 artists>, legend_artist=<ErrorbarContainer object of 3 artists>)]"
      ]
     },
     "execution_count": 27,
     "metadata": {},
     "output_type": "execute_result"
    },
    {
     "data": {
      "image/png": "[encoded data removed]",
      "text/plain": [
       "<Figure size 432x288 with 1 Axes>"
      ]
     },
     "metadata": {
      "needs_background": "light"
     },
     "output_type": "display_data"
    }
   ],
   "source": [
    "masshist = hist.Hist(hist.axis.Regular(120, 0, 120, label=\"mass [GeV]\"))\n",
    "masshist.fill(massdimuon)\n",
    "masshist.plot()"
   ]
  },
  {
   "cell_type": "code",
   "execution_count": 27,
   "id": "c47ca033",
   "metadata": {},
   "outputs": [
    {
     "data": {
      "text/plain": [
       "['nMuon', 'Muon_pt', 'Muon_eta', 'Muon_phi']"
      ]
     },
     "execution_count": 27,
     "metadata": {},
     "output_type": "execute_result"
    }
   ],
   "source": [
    "tree.keys(filter_name=[\"nMuon\", \"/Muon_(pt|eta|phi)/\"])"
   ]
  },
  {
   "cell_type": "code",
   "execution_count": 28,
   "id": "342f3e0a",
   "metadata": {},
   "outputs": [
    {
     "name": "stdout",
     "output_type": "stream",
     "text": [
      "0.02476806582367265\n",
      "0.04953244301431646\n",
      "0.07414066265691133\n",
      "0.09883069845501362\n",
      "0.12372555900786691\n",
      "0.14857022490245556\n",
      "0.1733401756663544\n",
      "0.19790541542189521\n",
      "0.2231366240587303\n",
      "0.24903843268000167\n",
      "0.2746961577914662\n",
      "0.3004716591680982\n",
      "0.3266033492495411\n",
      "0.35272515964428125\n",
      "0.37907369909915944\n",
      "0.4053174618766371\n",
      "0.4309308746433015\n",
      "0.4559705993523313\n",
      "0.4818679393653078\n",
      "0.5026042967894935\n"
     ]
    },
    {
     "data": {
      "text/plain": [
       "[StairsArtists(stairs=<matplotlib.patches.StepPatch object at 0x7f456094bb50>, errorbar=<ErrorbarContainer object of 3 artists>, legend_artist=<ErrorbarContainer object of 3 artists>)]"
      ]
     },
     "execution_count": 28,
     "metadata": {},
     "output_type": "execute_result"
    },
    {
     "data": {
      "image/png": "[encoded data removed]",
      "text/plain": [
       "<Figure size 432x288 with 1 Axes>"
      ]
     },
     "metadata": {
      "needs_background": "light"
     },
     "output_type": "display_data"
    }
   ],
   "source": [
    "masshist = hist.Hist(hist.axis.Regular(120, 0, 120, label=\"mass [GeV]\"))\n",
    "\n",
    "for muons in tree.iterate(filter_name=[\"nMuon\", \"/Muon_(pt|eta|phi)/\"]):\n",
    "    cut = muons[\"nMuon\"] == 2\n",
    "\n",
    "    pt0 = muons[\"Muon_pt\", cut, 0]\n",
    "    pt1 = muons[\"Muon_pt\", cut, 1]\n",
    "\n",
    "    eta0 = muons[\"Muon_eta\", cut, 0]\n",
    "    eta1 = muons[\"Muon_eta\", cut, 1]\n",
    "\n",
    "    phi0 = muons[\"Muon_phi\", cut, 0]\n",
    "    phi1 = muons[\"Muon_phi\", cut, 1]\n",
    "    \n",
    "    mass = np.sqrt(2*pt0*pt1*(np.cosh(eta0-eta1) - np.cos(phi0 - phi1)))\n",
    "    masshist.fill(mass)\n",
    "    \n",
    "    print(masshist.sum() / tree.num_entries)\n",
    "    \n",
    "masshist.plot()"
   ]
  },
  {
   "cell_type": "markdown",
   "id": "f432ce12",
   "metadata": {},
   "source": [
    "### 5. Getting data into NumPy or Pandas\n",
    "\n",
    "In all of the above examples, the array, arrays, and iterate methods return Awkward Arrays. The Awkward Array library is useful for exactly this kind of data (jagged arrays: more in the next lesson), but you might be working with libraries that only recognize NumPy arrays or Pandas DataFrames.\n",
    "\n",
    "Use library=\"np\" or library=\"pd\" to get NumPy or Pandas, respectively."
   ]
  },
  {
   "cell_type": "code",
   "execution_count": 29,
   "id": "544aaa71",
   "metadata": {},
   "outputs": [
    {
     "data": {
      "text/plain": [
       "{'nMuon': array([2, 2, 1, ..., 2, 2, 2], dtype=uint32),\n",
       " 'Muon_pt': array([array([10.763697, 15.736523], dtype=float32),\n",
       "        array([10.53849 , 16.327097], dtype=float32),\n",
       "        array([3.2753265], dtype=float32), ...,\n",
       "        array([30.238283, 13.035936], dtype=float32),\n",
       "        array([17.35597 , 15.874119], dtype=float32),\n",
       "        array([39.6421  , 42.273067], dtype=float32)], dtype=object),\n",
       " 'Muon_eta': array([array([ 1.0668273, -0.5637865], dtype=float32),\n",
       "        array([-0.42778006,  0.34922507], dtype=float32),\n",
       "        array([2.2108555], dtype=float32), ...,\n",
       "        array([-1.1984524, -2.0278058], dtype=float32),\n",
       "        array([-0.83613676, -0.8279834 ], dtype=float32),\n",
       "        array([-2.090575 , -1.0396558], dtype=float32)], dtype=object),\n",
       " 'Muon_phi': array([array([-0.03427272,  2.5426154 ], dtype=float32),\n",
       "        array([-0.2747921,  2.5397813], dtype=float32),\n",
       "        array([-1.2234136], dtype=float32), ...,\n",
       "        array([-2.2813563 ,  0.60287297], dtype=float32),\n",
       "        array([-1.4231573, -1.4103615], dtype=float32),\n",
       "        array([ 2.2101276, -0.9990832], dtype=float32)], dtype=object),\n",
       " 'Muon_mass': array([array([0.10565837, 0.10565837], dtype=float32),\n",
       "        array([0.10565837, 0.10565837], dtype=float32),\n",
       "        array([0.10565837], dtype=float32), ...,\n",
       "        array([0.10565837, 0.10565837], dtype=float32),\n",
       "        array([0.10565837, 0.10565837], dtype=float32),\n",
       "        array([0.10565837, 0.10565837], dtype=float32)], dtype=object),\n",
       " 'Muon_charge': array([array([-1, -1], dtype=int32), array([ 1, -1], dtype=int32),\n",
       "        array([1], dtype=int32), ..., array([ 1, -1], dtype=int32),\n",
       "        array([ 1, -1], dtype=int32), array([ 1, -1], dtype=int32)],\n",
       "       dtype=object)}"
      ]
     },
     "execution_count": 29,
     "metadata": {},
     "output_type": "execute_result"
    }
   ],
   "source": [
    "tree[\"nMuon\"].array(library=\"np\", entry_stop=10_000)\n",
    "\n",
    "tree.arrays(library=\"np\", entry_stop=10_000)\n",
    "\n",
    "#tree.arrays(library=\"pd\", entry_stop=10_000)"
   ]
  }
 ],
 "metadata": {
  "kernelspec": {
   "display_name": "Python 3",
   "language": "python",
   "name": "python3"
  },
  "language_info": {
   "codemirror_mode": {
    "name": "ipython",
    "version": 3
   },
   "file_extension": ".py",
   "mimetype": "text/x-python",
   "name": "python",
   "nbconvert_exporter": "python",
   "pygments_lexer": "ipython3",
   "version": "3.11.9"
  }
 },
 "nbformat": 4,
 "nbformat_minor": 5
}
