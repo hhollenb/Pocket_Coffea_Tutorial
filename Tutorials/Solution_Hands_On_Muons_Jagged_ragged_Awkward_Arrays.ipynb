{
 "cells": [
  {
   "cell_type": "markdown",
   "id": "3df9286d",
   "metadata": {},
   "source": [
    "# Introductory Tutorial: Fundamentals for pocket-coffea - Reconstructing the Z Boson\n",
    "\n",
    "It's time to apply what we've learned! In this exercise, we will perform a classic particle physics analysis: we will search for the Z boson (Z) from its decay into two muons $(Z \\ to \\ \\mu+\\mu−)$.\n",
    "Objective: Create pairs of muons, calculate their invariant mass, and visualize the Z boson peak in a histogram."
   ]
  },
  {
   "cell_type": "code",
   "execution_count": 20,
   "id": "119e3e3b",
   "metadata": {},
   "outputs": [],
   "source": [
    "import uproot\n",
    "import awkward as ak\n",
    "import numpy as np\n",
    "import hist \n",
    "import particle, hepunits\n",
    "import matplotlib.pyplot as plt"
   ]
  },
  {
   "cell_type": "markdown",
   "id": "b9bfe673",
   "metadata": {},
   "source": [
    "### Step 1: Upload the relevant data\n",
    "\n",
    "We already know how to open a file and access the TTree. But this time, we don't want all the branches (there could be hundreds).\n",
    "\n",
    "Your task: Load only the branches we need for the muons: their transverse momentum (pt), eta, phi, and charge. Let's use the first 10,000 events to get good statistics.\n",
    "\n",
    "Hint: The tree.arrays() method has a filter_name argument that accepts regular expressions (regex) to select branches by name.\n",
    "\n",
    "The path of the root file is:\n",
    "root://eospublic.cern.ch//eos/opendata/cms/derived-data/AOD2NanoAODOutreachTool/Run2012BC_DoubleMuParked_Muons.root"
   ]
  },
  {
   "cell_type": "code",
   "execution_count": 3,
   "id": "176fffb9",
   "metadata": {},
   "outputs": [],
   "source": [
    "file = uproot.open(\"root://eospublic.cern.ch//eos/opendata/cms/derived-data/AOD2NanoAODOutreachTool/Run2012BC_DoubleMuParked_Muons.root\")\n",
    "\n",
    "tree = file[\"Events\"]"
   ]
  },
  {
   "cell_type": "markdown",
   "id": "ac0918ff",
   "metadata": {},
   "source": [
    "#### Exploring the File Contents (Optional but Recommended)\n",
    "\n",
    "Before loading the data, it is a good practice to explore what the file contains. uproot offers very useful methods for this.\n",
    "\n",
    "First, we can use .classnames() on the file object to see all the top-level objects it contains and their type."
   ]
  },
  {
   "cell_type": "code",
   "execution_count": 4,
   "id": "191b8664",
   "metadata": {},
   "outputs": [
    {
     "data": {
      "text/plain": [
       "{'Events;75': 'TTree', 'Events;74': 'TTree'}"
      ]
     },
     "execution_count": 4,
     "metadata": {},
     "output_type": "execute_result"
    }
   ],
   "source": [
    "file.classnames()"
   ]
  },
  {
   "cell_type": "markdown",
   "id": "d1daf919",
   "metadata": {},
   "source": [
    "This shows us that there is an object called Events which is a TTree, the standard container for event data in ROOT format. This confirms that the next step is to access it with tree = file[‘Events’].\n",
    "\n",
    "Once we have our TTree, we can use .show() to see a list of its variables, known as branches, and their data type."
   ]
  },
  {
   "cell_type": "code",
   "execution_count": 5,
   "id": "713acb63",
   "metadata": {},
   "outputs": [
    {
     "name": "stdout",
     "output_type": "stream",
     "text": [
      "name                 | typename                 | interpretation                \n",
      "---------------------+--------------------------+-------------------------------\n",
      "nMuon                | uint32_t                 | AsDtype('>u4')\n",
      "Muon_pt              | float[]                  | AsJagged(AsDtype('>f4'))\n",
      "Muon_eta             | float[]                  | AsJagged(AsDtype('>f4'))\n",
      "Muon_phi             | float[]                  | AsJagged(AsDtype('>f4'))\n",
      "Muon_mass            | float[]                  | AsJagged(AsDtype('>f4'))\n",
      "Muon_charge          | int32_t[]                | AsJagged(AsDtype('>i4'))\n"
     ]
    }
   ],
   "source": [
    "tree.show()"
   ]
  },
  {
   "cell_type": "markdown",
   "id": "4a641487",
   "metadata": {},
   "source": [
    "This command is very useful because it shows us the exact names of the branches we need for our analysis: Muon_pt, Muon_eta, Muon_phi, and Muon_charge.\n",
    "\n",
    "Now that we know the names, we can confidently construct the correct filter to load only the data we are interested in."
   ]
  },
  {
   "cell_type": "markdown",
   "id": "fea16fbe",
   "metadata": {},
   "source": [
    "### Step 2: Load Relevant Data\n",
    "\n",
    "We already know how to open a file and access the TTree. But this time, we don't want all the branches (there could be hundreds). We need to be selective for our analysis to be efficient.\n",
    "\n",
    "Your task:\n",
    "\n",
    "Use the tree.arrays() method to load the data into a variable called arrays. Make sure you meet these two requirements:\n",
    "\n",
    "* Load only the branches we need for the muons: their transverse momentum (pt), pseudorapidity (eta), azimuthal angle (phi), and their charge.\n",
    "\n",
    "* Limit the charge to the first 10,000 events to have good statistics without making the process too slow.\n",
    "\n",
    "Hint: The tree.arrays() method has a filter_name argument that accepts regular expressions (regex). Use the branch names you discovered with tree.show() to build the correct filter."
   ]
  },
  {
   "cell_type": "code",
   "execution_count": 6,
   "id": "cdd616b0",
   "metadata": {},
   "outputs": [],
   "source": [
    "arrays = tree.arrays(filter_name=\"/Muon_(pt|eta|phi|charge)/\", entry_stop = 10000)"
   ]
  },
  {
   "cell_type": "markdown",
   "id": "eaee46c3",
   "metadata": {},
   "source": [
    "### Step 3: Structuring the Muon Data\n",
    "\n",
    "Currently, we have our data in separate arrays (arrays[‘Muon_pt’], arrays[‘Muon_eta’], etc.). To work more comfortably and intuitively, it is better to group them to have a single list of “muons”, where each “muon” is an object with all its properties together (pt, eta, phi, charge).\n",
    "\n",
    "Your task:\n",
    "\n",
    "Use the ak.zip function to “compress” the separated arrays into a single array called muons.\n",
    "\n",
    "Hint: ak.zip takes a dictionary where the keys are the new field names (such as “pt”) and the values are the corresponding data arrays (such as arrays[“Muon_pt”])."
   ]
  },
  {
   "cell_type": "code",
   "execution_count": 8,
   "id": "600ae654",
   "metadata": {},
   "outputs": [],
   "source": [
    "muons = ak.zip(\n",
    "    {\n",
    "        \"pt\": arrays[\"Muon_pt\"],\n",
    "        \"eta\": arrays[\"Muon_eta\"],\n",
    "        \"phi\": arrays[\"Muon_phi\"],\n",
    "        \"charge\": arrays[\"Muon_charge\"],\n",
    "    }\n",
    "\n",
    ")"
   ]
  },
  {
   "cell_type": "markdown",
   "id": "406db9e4",
   "metadata": {},
   "source": [
    "#### Checking the Structure Change\n",
    "\n",
    "To understand the fundamental difference we just made, we can inspect the .type attribute of our arrays before and after the operation. This is the difference between an “array structure” and an “array of structures”.\n",
    "\n",
    "Before: We had a single “record” (struct) containing lists of properties."
   ]
  },
  {
   "cell_type": "code",
   "execution_count": 9,
   "id": "30b51699",
   "metadata": {},
   "outputs": [
    {
     "data": {
      "text/plain": [
       "ArrayType(RecordType([ListType(NumpyType('float32')), ListType(NumpyType('float32')), ListType(NumpyType('float32')), ListType(NumpyType('int32'))], ['Muon_pt', 'Muon_eta', 'Muon_phi', 'Muon_charge']), 10000, None)"
      ]
     },
     "execution_count": 9,
     "metadata": {},
     "output_type": "execute_result"
    }
   ],
   "source": [
    "arrays.type"
   ]
  },
  {
   "cell_type": "markdown",
   "id": "2356c6ce",
   "metadata": {},
   "source": [
    "After: Now we have a list of events, where each event contains a list of “muons”, and each muon is a record with its properties."
   ]
  },
  {
   "cell_type": "code",
   "execution_count": 10,
   "id": "d719e099",
   "metadata": {},
   "outputs": [
    {
     "data": {
      "text/plain": [
       "ArrayType(ListType(RecordType([NumpyType('float32'), NumpyType('float32'), NumpyType('float32'), NumpyType('int32')], ['pt', 'eta', 'phi', 'charge'])), 10000, None)"
      ]
     },
     "execution_count": 10,
     "metadata": {},
     "output_type": "execute_result"
    }
   ],
   "source": [
    "muons.type"
   ]
  },
  {
   "cell_type": "markdown",
   "id": "9882cf45",
   "metadata": {},
   "source": [
    "### Step 4: Create muon pairs\n",
    "\n",
    "The Z boson decays into two muons (Z $\\rightarrow$ $\\mu_1$ and $\\mu_2$), so the next logical step is to form all possible combinations of two muons in each event. From these pairs, we can calculate the invariant mass and search for our candidate.\n",
    "\n",
    "Once you have the pairs, “unzip” them into two separate arrays: $\\mu_1$ and $\\mu_2$.\n",
    "\n",
    "Your task:\n",
    "\n",
    "Complete the following two steps in the code cell:\n",
    "\n",
    "1. Use the ak.combinations() function to generate all combinations of 2 muons from your muon array. Store the result in a variable called pairs.\n",
    "\n",
    "2. To facilitate future calculations, “unzip” the pairs into two separate arrays: $\\mu_1$ and $\\mu_2$. The ak.unzip() function is perfect for this, as it will take each pair ($\\mu_A$, $\\mu_B$) and put all $\\mu_A$ in the $\\mu_1$ array and all $\\mu_B$ in the $\\mu_2$ array."
   ]
  },
  {
   "cell_type": "code",
   "execution_count": 12,
   "id": "429c8daa",
   "metadata": {},
   "outputs": [
    {
     "data": {
      "text/plain": [
       "ArrayType(ListType(RecordType([RecordType([NumpyType('float32'), NumpyType('float32'), NumpyType('float32'), NumpyType('int32')], ['pt', 'eta', 'phi', 'charge']), RecordType([NumpyType('float32'), NumpyType('float32'), NumpyType('float32'), NumpyType('int32')], ['pt', 'eta', 'phi', 'charge'])], None)), 10000, None)"
      ]
     },
     "execution_count": 12,
     "metadata": {},
     "output_type": "execute_result"
    }
   ],
   "source": [
    "# 1. Create the muon pairs\n",
    "pairs = ak.combinations(muons, 2)\n",
    "\n",
    "# 2. Decompress the pairs into mu1 and mu2\n",
    "mu1, mu2 = ak.unzip(pairs)\n",
    "\n",
    "# Optional: Take a look at the type of ‘pairs’ to see the new structure\n",
    "pairs.type"
   ]
  },
  {
   "cell_type": "markdown",
   "id": "fa9b7ac6",
   "metadata": {},
   "source": [
    "Quick Check: \n",
    "\n",
    "Now we have two arrays, $\\mu_1$ and $\\mu_2$, containing the first and the second muon of each pair, respectively. Logically, both arrays should have exactly the same structure and number of elements per event. Let's check it quickly."
   ]
  },
  {
   "cell_type": "code",
   "execution_count": 14,
   "id": "710c474f",
   "metadata": {},
   "outputs": [
    {
     "name": "stdout",
     "output_type": "stream",
     "text": [
      "Number of pairs in $\\mu_1$ per event (first 10): [1, 1, 0, 6, 6, 3, 1, 1, 1, 1]\n",
      "Number of pairs in $\\mu_2$ per event (first 10): [1, 1, 0, 6, 6, 3, 1, 1, 1, 1]\n"
     ]
    }
   ],
   "source": [
    "num_pairs_mu1_per_event = ak.num(mu1, axis=1)\n",
    "num_pairs_mu2_per_event = ak.num(mu2, axis=1)\n",
    "print(f\"Number of pairs in $\\mu_1$ per event (first 10): {num_pairs_mu1_per_event[:10]}\")\n",
    "print(f\"Number of pairs in $\\mu_2$ per event (first 10): {num_pairs_mu2_per_event[:10]}\")"
   ]
  },
  {
   "cell_type": "code",
   "execution_count": 15,
   "id": "ebcaacde",
   "metadata": {},
   "outputs": [
    {
     "name": "stdout",
     "output_type": "stream",
     "text": [
      "Are the lengths the same for each event (first 10)?: [True, True, True, True, True, True, True, True, True, True]\n"
     ]
    }
   ],
   "source": [
    "are_lengths_equal_per_event = (num_pairs_mu1_per_event == num_pairs_mu2_per_event)\n",
    "print(f\"Are the lengths the same for each event (first 10)?: {are_lengths_equal_per_event[:10]}\")"
   ]
  },
  {
   "cell_type": "code",
   "execution_count": 16,
   "id": "d9887fa5",
   "metadata": {},
   "outputs": [
    {
     "name": "stdout",
     "output_type": "stream",
     "text": [
      "\n",
      "Are ALL lengths equal in mu1 and mu2 for each event?: True\n"
     ]
    }
   ],
   "source": [
    "all_lengths_are_equal = ak.all(are_lengths_equal_per_event)\n",
    "print(f\"\\nAre ALL lengths equal in mu1 and mu2 for each event?: {all_lengths_are_equal}\")"
   ]
  },
  {
   "cell_type": "code",
   "execution_count": 17,
   "id": "9075f76e",
   "metadata": {},
   "outputs": [
    {
     "name": "stdout",
     "output_type": "stream",
     "text": [
      "Total number of elements in $\\mu_1$: [1, 1, 0, 6, 6, 3, 1, 1, 1, 1, 1, 1, ..., 1, 1, 1, 3, 3, 6, 6, 1, 1, 1, 1, 1]\n",
      "Total number of elements in $\\mu_2$: [1, 1, 0, 6, 6, 3, 1, 1, 1, 1, 1, 1, ..., 1, 1, 1, 3, 3, 6, 6, 1, 1, 1, 1, 1]\n"
     ]
    }
   ],
   "source": [
    "print(f\"Total number of elements in $\\mu_1$: {ak.num(mu1, axis=1)}\")\n",
    "print(f\"Total number of elements in $\\mu_2$: {ak.num(mu2, axis=1)}\")"
   ]
  },
  {
   "cell_type": "markdown",
   "id": "5d12ef03",
   "metadata": {},
   "source": [
    "As you can see, the lengths match perfectly. This structure is incredibly useful because we can now perform “vectorized” operations between the properties of the two muons of each pair. For example, to check if they have opposite charges, we can do mu1.charge != mu2.charge directly in the next step."
   ]
  },
  {
   "cell_type": "markdown",
   "id": "b31bc11c",
   "metadata": {},
   "source": [
    "### Step 4: Calculate the Invariant Mass\n",
    "\n",
    "Since they do have the same lengths, we will use the following formula to calculate the invariant mass of each pair of muons, assuming that their mass is negligible compared to their energy:\n",
    "\n",
    "$\\sqrt{2 * p_{T1} * p_{T2} \\ (cosh(\\eta_1 - \\eta_2) - cos(\\phi_1 - \\phi_2))}$\n",
    "\n",
    "Task: Apply this formula to your arrays $\\mu_1$ and $\\mu_2$.\n",
    "\n",
    "Hint: Thanks to the “magic” of Awkward and NumPy, you can use NumPy functions (np.sqrt, np.cosh, np.cos) directly on arrays. The operation will be applied to each pair of muons automatically (this is called vectorization)."
   ]
  },
  {
   "cell_type": "code",
   "execution_count": 18,
   "id": "597a5d8b",
   "metadata": {},
   "outputs": [],
   "source": [
    "mass = np.sqrt(\n",
    "    2 * mu1.pt * mu2.pt * (np.cosh(mu1.eta - mu2.eta) - np.cos(mu1.phi - mu2.phi))\n",
    ")"
   ]
  },
  {
   "cell_type": "markdown",
   "id": "c6f10e80",
   "metadata": {},
   "source": [
    "### Step 5: The first histogram\n",
    "\n",
    "Now we have an array mass containing the invariant mass of each pair of muons in each event. To see if we have found something, we need to visualize the distribution of all these masses. The perfect tool for this is a histogram.\n",
    "\n",
    "If the Z boson is in our data, we should see an accumulation of events (a “bump”) around its known mass.\n",
    "\n",
    "Task: Create a histogram of all the masses you calculated. Use the hist library and chain the methods in a single line to achieve this:\n",
    "\n",
    "* Create the object with hist.Hist(), defining a regular axis (hist.axis.Regular) with 120 bins in a range from 0 to 120 GeV.\n",
    "\n",
    "* Fill the histogram with the mass data using the .fill() method.\n",
    "\n",
    "* Plot the result with the .plot() method.\n",
    "\n",
    "Key Hint: The .fill() method needs a flat (1D) array, but our mass array has a nested structure (a list of masses for each event). Use ak.ravel(mass) to “flatten” your array before passing it to .fill()."
   ]
  },
  {
   "cell_type": "code",
   "execution_count": 25,
   "id": "39717e7a",
   "metadata": {},
   "outputs": [
    {
     "data": {
      "image/png": "[encoded data removed]",
      "text/plain": [
       "<Figure size 432x288 with 1 Axes>"
      ]
     },
     "metadata": {
      "needs_background": "light"
     },
     "output_type": "display_data"
    }
   ],
   "source": [
    "hist.Hist(\n",
    "    hist.axis.Regular(120, 0, 120, label=\"Invariant Mass [GeV]\")\n",
    ").fill(ak.ravel(mass)).plot()\n",
    "\n",
    "\n",
    "plt.ylabel(\"Muon Pairs\")\n",
    "plt.title(\"Invariant Mass Dimuon\")\n",
    "plt.grid(True, linestyle='--', alpha=0.6)\n",
    "plt.show()"
   ]
  },
  {
   "cell_type": "markdown",
   "id": "473c5942",
   "metadata": {},
   "source": [
    "We start to see a peak around 90 GeV. That is the signal from our Z boson. However, there is also a lot of background noise from other processes. In the next step, we will apply cuts to clean up this signal and make our peak much clearer."
   ]
  },
  {
   "cell_type": "markdown",
   "id": "a2dd0d99",
   "metadata": {},
   "source": [
    "Note: Handling Empty Lists and None Values\n",
    "\n",
    "In the previous step, we used ak.ravel to flatten all the masses into a single list for the histogram. But what if you wanted to do a different operation, such as finding the maximum invariant mass at each event?\n",
    "\n",
    "This is where awkward-array really shines when handling data with variable structure.\n",
    "\n",
    "Problem: The Maximum of an Empty List\n",
    "\n",
    "If we try to calculate the maximum in our array mass along the axis of pairs (axis=1), we run into an interesting detail. Some events do not have any valid muon pairs (after our cuts), so their mass list is empty."
   ]
  },
  {
   "cell_type": "code",
   "execution_count": 24,
   "id": "637d5763",
   "metadata": {},
   "outputs": [
    {
     "data": {
      "text/html": [
       "<pre>[34.4,\n",
       " 27.9,\n",
       " None,\n",
       " 26.2,\n",
       " 18.2,\n",
       " 4.52,\n",
       " 114,\n",
       " 1.57,\n",
       " 23.7,\n",
       " 0.696,\n",
       " ...,\n",
       " 3.36,\n",
       " 3.53,\n",
       " 4.26,\n",
       " 3.05,\n",
       " 2.2,\n",
       " 24.2,\n",
       " 42.9,\n",
       " 0.252,\n",
       " 93.4]\n",
       "----------------------\n",
       "type: 10000 * ?float32</pre>"
      ],
      "text/plain": [
       "<Array [34.4, 27.9, None, 26.2, ..., 42.9, 0.252, 93.4] type='10000 * ?float32'>"
      ]
     },
     "execution_count": 24,
     "metadata": {},
     "output_type": "execute_result"
    }
   ],
   "source": [
    "ak.max(mass, axis=1)"
   ]
  },
  {
   "cell_type": "markdown",
   "id": "5e46ade9",
   "metadata": {},
   "source": [
    "The output of this command will contain None values for those events, because the maximum of an empty list is not defined. awkward uses None as a placeholder for these missing values.\n",
    "\n",
    "\n",
    "Two Solutions for a Clean Result:\n",
    "\n",
    "To get a final list with only the maximum values (and no None), awkward offers two ways to think about the problem:\n",
    "\n",
    "1. compute and Then Clean:\n",
    "\n",
    "We can first compute the maximum and then use ak.flatten (or ak.ravel) to remove None values from the resulting list."
   ]
  },
  {
   "cell_type": "code",
   "execution_count": 27,
   "id": "fff30b91",
   "metadata": {},
   "outputs": [
    {
     "data": {
      "text/html": [
       "<pre>[34.4,\n",
       " 27.9,\n",
       " 26.2,\n",
       " 18.2,\n",
       " 4.52,\n",
       " 114,\n",
       " 1.57,\n",
       " 23.7,\n",
       " 0.696,\n",
       " 27.1,\n",
       " ...,\n",
       " 3.36,\n",
       " 3.53,\n",
       " 4.26,\n",
       " 3.05,\n",
       " 2.2,\n",
       " 24.2,\n",
       " 42.9,\n",
       " 0.252,\n",
       " 93.4]\n",
       "--------------------\n",
       "type: 8880 * float32</pre>"
      ],
      "text/plain": [
       "<Array [34.4, 27.9, 26.2, 18.2, ..., 42.9, 0.252, 93.4] type='8880 * float32'>"
      ]
     },
     "execution_count": 27,
     "metadata": {},
     "output_type": "execute_result"
    }
   ],
   "source": [
    "ak.flatten(ak.max(mass, axis=1), axis=None)"
   ]
  },
  {
   "cell_type": "markdown",
   "id": "b2c249dd",
   "metadata": {},
   "source": [
    "2. Clean and Then Calculate (More Efficient):\n",
    "An often clearer and more efficient approach is to first filter out the events we are not interested in (those with empty mass lists) and then perform the calculation."
   ]
  },
  {
   "cell_type": "code",
   "execution_count": 29,
   "id": "5363b239",
   "metadata": {},
   "outputs": [
    {
     "data": {
      "text/html": [
       "<pre>[34.4,\n",
       " 27.9,\n",
       " 26.2,\n",
       " 18.2,\n",
       " 4.52,\n",
       " 114,\n",
       " 1.57,\n",
       " 23.7,\n",
       " 0.696,\n",
       " 27.1,\n",
       " ...,\n",
       " 3.36,\n",
       " 3.53,\n",
       " 4.26,\n",
       " 3.05,\n",
       " 2.2,\n",
       " 24.2,\n",
       " 42.9,\n",
       " 0.252,\n",
       " 93.4]\n",
       "---------------------\n",
       "type: 8880 * ?float32</pre>"
      ],
      "text/plain": [
       "<Array [34.4, 27.9, 26.2, 18.2, ..., 42.9, 0.252, 93.4] type='8880 * ?float32'>"
      ]
     },
     "execution_count": 29,
     "metadata": {},
     "output_type": "execute_result"
    }
   ],
   "source": [
    "# 1. We filter to keep only events that have at least one pair\n",
    "non_empty_mass = mass[ak.num(mass) > 0]\n",
    "\n",
    "# 2. Now we calculate the maximum. As there are no empty lists, no Nones will be generated.\n",
    "ak.max(non_empty_mass, axis=1)"
   ]
  },
  {
   "cell_type": "markdown",
   "id": "83274eb1",
   "metadata": {},
   "source": [
    "Both methods give the same end result. This flexibility to handle “irregular” or missing data is one of the most powerful features of awkward-array."
   ]
  },
  {
   "cell_type": "markdown",
   "id": "0826ed2d",
   "metadata": {},
   "source": [
    "### Step 6: Applying cuts\n",
    "\n",
    "Our first histogram shows a promising signal, but it is contaminated by a lot of background noise. We will now apply two “cuts” based on the physics of the process to refine our event selection and obtain a much sharper Z boson peak.\n",
    "\n",
    "Hints: Opposite Charge Cut The Z boson (electrically neutral), so it must decay into oppositely charged muons ($\\mu+\\mu−$).\n",
    "\n",
    "Filter out the pairs to keep only those where mu1.charge is different from mu2.charge.\n",
    "\n",
    "Task: Create a boolean mask called cut that is True only for pairs where the charge of mu1 is different from that of mu2.\n",
    "\n",
    "Apply this mask to your mass array when filling the histogram. The syntax in awkward is very straightforward: mass[cut].\n",
    "\n",
    "Create a new histogram with the filtered masses, you should see a big improvement."
   ]
  },
  {
   "cell_type": "code",
   "execution_count": 31,
   "id": "de11aaaf",
   "metadata": {},
   "outputs": [
    {
     "data": {
      "image/png": "[encoded data removed]",
      "text/plain": [
       "<Figure size 432x288 with 1 Axes>"
      ]
     },
     "metadata": {
      "needs_background": "light"
     },
     "output_type": "display_data"
    }
   ],
   "source": [
    "# 1. Create the opposite load cut mask\n",
    "cut = (mu1.charge != mu2.charge)\n",
    "\n",
    "# 2. Creates the histogram by applying the cut to the masses\n",
    "hist.Hist(\n",
    " hist.axis.Regular(120, 0, 120, label=\"Invariant Mass [GeV]\")\n",
    ").fill(ak.ravel(mass[cut])).plot()\n",
    "\n",
    "# Style\n",
    "plt.ylabel(\"Muon Pairs (Opposite Charge)\")\n",
    "plt.title(\"Invariant Mass after Charge Cut\")\n",
    "plt.grid(True, linestyle='--', alpha=0.6)\n",
    "plt.show()"
   ]
  },
  {
   "cell_type": "markdown",
   "id": "c57d0df2",
   "metadata": {},
   "source": [
    "Much better. The background noise has decreased.\n",
    "\n",
    "\n",
    "Task 2: Selection of the \"Best\" Candidate Pair\n",
    "\n",
    "In some events, there may be more than one pair ($\\mu+\\mu−$) valid. To obtain the sharpest possible peak, a common technique is to stick with only the pair whose invariant mass is closest to the known Z mass (~91.2 GeV)."
   ]
  },
  {
   "cell_type": "markdown",
   "id": "56baca8a",
   "metadata": {},
   "source": [
    "Task:\n",
    "\n",
    "* Use ak.argmin() to find, for each event, the index of the pair whose mass has the minimum absolute difference with the mass of Z.\n",
    "\n",
    "* Use these indices to select only the “best” mass of each event.\n",
    "\n",
    "* Create the final histogram with this ultra-clean data - this will be your final result!"
   ]
  },
  {
   "cell_type": "code",
   "execution_count": 43,
   "id": "0471c9b9",
   "metadata": {},
   "outputs": [
    {
     "data": {
      "image/png": "[encoded data removed]",
      "text/plain": [
       "<Figure size 432x288 with 1 Axes>"
      ]
     },
     "metadata": {
      "needs_background": "light"
     },
     "output_type": "display_data"
    }
   ],
   "source": [
    "zmass = particle.Particle.findall(\"Z0\")[0].mass / hepunits.GeV\n",
    "\n",
    "# 1. The charge cut is applied and the index of the pair closest in mass to Z is found\n",
    "which = ak.argmin(abs(mass[cut] - zmass), axis=1, keepdims=True)\n",
    "\n",
    "# 2. The index is used to select only the best mass of each event\n",
    "histogram_data = ak.ravel(mass[cut][which])\n",
    "\n",
    "# Remove None values resulting from events without pairs\n",
    "histogram_data_cleaned = ak.drop_none(histogram_data)\n",
    "\n",
    "# 4. The final histogram is created\n",
    "hist.Hist(\n",
    " hist.axis.Regular(120, 0, 120, label=\"Invariant Mass [GeV]\")\n",
    ").fill(histogram_data_cleaned).plot()\n",
    "\n",
    "# Style\n",
    "plt.ylabel(\"Best Muon Pair per Event\")\n",
    "plt.title(\"Reconstruction of the Z Boson\")\n",
    "plt.grid(True, linestyle='--', alpha=0.6)\n",
    "plt.show()"
   ]
  },
  {
   "cell_type": "markdown",
   "id": "9bc00a7b",
   "metadata": {},
   "source": [
    "The numerous events at lower masses (below ~70 GeV) are considered background. These are muon pairs produced by physical processes other than the decay of a Z boson. A key challenge is to distinguish a rare signal from a large amount of background. The clear appearance of the Z peak above this background indicates a correct measurement.\n",
    "\n",
    "Smaller bumps at very low masses could correspond to the reconstruction of other lighter particles that also decay into muon pairs, such as the $J/\\psi$ meson (~3.1 GeV) and the Upsilon (Υ) family of mesons ($~9.5$ GeV)."
   ]
  },
  {
   "cell_type": "code",
   "execution_count": null,
   "id": "df896d6b",
   "metadata": {},
   "outputs": [],
   "source": []
  }
 ],
 "metadata": {
  "kernelspec": {
   "display_name": "Python 3",
   "language": "python",
   "name": "python3"
  },
  "language_info": {
   "codemirror_mode": {
    "name": "ipython",
    "version": 3
   },
   "file_extension": ".py",
   "mimetype": "text/x-python",
   "name": "python",
   "nbconvert_exporter": "python",
   "pygments_lexer": "ipython3",
   "version": "3.11.9"
  }
 },
 "nbformat": 4,
 "nbformat_minor": 5
}
