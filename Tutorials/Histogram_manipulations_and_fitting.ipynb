{
 "cells": [
  {
   "cell_type": "markdown",
   "id": "965821aa",
   "metadata": {},
   "source": [
    "# Histograms and Model Adjustments\n",
    "\n",
    "In this section, we will delve deeper into how to visualize our data and extract quantitative information from it.\n",
    "\n",
    "We will move from basic histograms to professional tools and perform a fit to measure the properties of the Z boson."
   ]
  },
  {
   "cell_type": "markdown",
   "id": "4cd60421",
   "metadata": {},
   "source": [
    "### 1. Preparing and Loading Test Data\n",
    "\n",
    "First, we import the necessary libraries.\n",
    "\n",
    "You will notice some new ones: skhep_testdata to obtain sample data files, and hist for histograms."
   ]
  },
  {
   "cell_type": "code",
   "execution_count": 3,
   "id": "43df614c",
   "metadata": {},
   "outputs": [
    {
     "name": "stdout",
     "output_type": "stream",
     "text": [
      "Updated sys.path:\n",
      "  - /eos/user/w/wbuitrag/.local/lib/python3.11/site-packages\n",
      "  - /eos/home-i01/w/wbuitrag/SWAN_projects/PocketCoffea\n",
      "  - /cvmfs/sft.cern.ch/lcg/releases/condor/24.0.7-acbb2/x86_64-el9-gcc13-opt/lib/python3\n",
      "  - /cvmfs/sft.cern.ch/lcg/views/LCG_107_swan/x86_64-el9-gcc13-opt/lib/python3.11/site-packages/itk\n",
      "  - /cvmfs/sft.cern.ch/lcg/views/LCG_107_swan/x86_64-el9-gcc13-opt/python\n",
      "  - /cvmfs/sft.cern.ch/lcg/views/LCG_107_swan/x86_64-el9-gcc13-opt/lib\n",
      "  - \n",
      "  - /cvmfs/sft.cern.ch/lcg/views/LCG_107_swan/x86_64-el9-gcc13-opt/lib/python3.11/site-packages\n",
      "  - /usr/local/lib/swan/nb_term_lib\n",
      "  - /cvmfs/sft.cern.ch/lcg/releases/Python/3.11.9-2924c/x86_64-el9-gcc13-opt/lib/python311.zip\n",
      "  - /cvmfs/sft.cern.ch/lcg/releases/Python/3.11.9-2924c/x86_64-el9-gcc13-opt/lib/python3.11\n",
      "  - /cvmfs/sft.cern.ch/lcg/releases/Python/3.11.9-2924c/x86_64-el9-gcc13-opt/lib/python3.11/lib-dynload\n",
      "  - /cvmfs/sft.cern.ch/lcg/releases/Python/3.11.9-2924c/x86_64-el9-gcc13-opt/lib/python3.11/site-packages\n",
      "  - /cvmfs/sft.cern.ch/lcg/views/LCG_107_swan/x86_64-el9-gcc13-opt/lib/python3.11/site-packages/IPython/extensions\n",
      "  - /home/wbuitrag/.ipython\n",
      "skhep_testdata imported successfully!\n"
     ]
    }
   ],
   "source": [
    "import sys\n",
    "import site\n",
    "import numpy as np\n",
    "import awkward as ak\n",
    "import uproot\n",
    "import matplotlib.pyplot as plt\n",
    "\n",
    "# Get the user site-packages path\n",
    "user_site_packages = site.getusersitepackages()\n",
    "\n",
    "# Check if it's already in sys.path to avoid adding duplicates\n",
    "if user_site_packages not in sys.path:\n",
    "    sys.path.insert(0, user_site_packages) \n",
    "\n",
    "print(\"Updated sys.path:\")\n",
    "for p in sys.path:\n",
    "    print(f\"  - {p}\")\n",
    "\n",
    "# Now importing\n",
    "import skhep_testdata\n",
    "print(\"skhep_testdata imported successfully!\")"
   ]
  },
  {
   "cell_type": "markdown",
   "id": "3e8a5b5f",
   "metadata": {},
   "source": [
    "### 2. From Basic to Professional Histograms\n",
    "\n",
    "There are quick ways to visualize data. numpy can calculate the contents of a histogram, and matplotlib can draw it directly."
   ]
  },
  {
   "cell_type": "code",
   "execution_count": 5,
   "id": "d99dc0e0",
   "metadata": {},
   "outputs": [],
   "source": [
    "tree = uproot.open(skhep_testdata.data_path(\"uproot-Zmumu.root\"))[\"events\"]"
   ]
  },
  {
   "cell_type": "code",
   "execution_count": 6,
   "id": "65ed580a",
   "metadata": {},
   "outputs": [
    {
     "name": "stdout",
     "output_type": "stream",
     "text": [
      "name                 | typename                 | interpretation                \n",
      "---------------------+--------------------------+-------------------------------\n",
      "Type                 | char*                    | AsStrings()\n",
      "Run                  | int32_t                  | AsDtype('>i4')\n",
      "Event                | int32_t                  | AsDtype('>i4')\n",
      "E1                   | double                   | AsDtype('>f8')\n",
      "px1                  | double                   | AsDtype('>f8')\n",
      "py1                  | double                   | AsDtype('>f8')\n",
      "pz1                  | double                   | AsDtype('>f8')\n",
      "pt1                  | double                   | AsDtype('>f8')\n",
      "eta1                 | double                   | AsDtype('>f8')\n",
      "phi1                 | double                   | AsDtype('>f8')\n",
      "Q1                   | int32_t                  | AsDtype('>i4')\n",
      "E2                   | double                   | AsDtype('>f8')\n",
      "px2                  | double                   | AsDtype('>f8')\n",
      "py2                  | double                   | AsDtype('>f8')\n",
      "pz2                  | double                   | AsDtype('>f8')\n",
      "pt2                  | double                   | AsDtype('>f8')\n",
      "eta2                 | double                   | AsDtype('>f8')\n",
      "phi2                 | double                   | AsDtype('>f8')\n",
      "Q2                   | int32_t                  | AsDtype('>i4')\n",
      "M                    | double                   | AsDtype('>f8')\n"
     ]
    }
   ],
   "source": [
    "tree.show()"
   ]
  },
  {
   "cell_type": "code",
   "execution_count": 7,
   "id": "f0c14de7",
   "metadata": {
    "scrolled": true
   },
   "outputs": [
    {
     "data": {
      "text/html": [
       "<pre>[[172, 89, 29, 69, 277, 1.64e+03, 24, 0, 2, 2],\n",
       " [0.389, 17.6, 34.7, 51.9, 69.1, 86.2, 103, 121, 138, 155, 172]]\n",
       "----------------------------------------------------------------\n",
       "type: 2 * var * float64</pre>"
      ],
      "text/plain": [
       "<Array [[172, 89, 29, 69, 277, ..., 24, 0, 2, 2], ...] type='2 * var * float64'>"
      ]
     },
     "execution_count": 7,
     "metadata": {},
     "output_type": "execute_result"
    }
   ],
   "source": [
    "np.histogram(tree[\"M\"].array())"
   ]
  },
  {
   "cell_type": "code",
   "execution_count": 8,
   "id": "ef33d5c0",
   "metadata": {},
   "outputs": [
    {
     "data": {
      "text/plain": [
       "(array([ 172.,   89.,   29.,   69.,  277., 1640.,   24.,    0.,    2.,\n",
       "           2.]),\n",
       " array([  0.38905792,  17.56032889,  34.73159987,  51.90287084,\n",
       "         69.07414181,  86.24541279, 103.41668376, 120.58795473,\n",
       "        137.75922571, 154.93049668, 172.10176766]),\n",
       " <BarContainer object of 10 artists>)"
      ]
     },
     "execution_count": 8,
     "metadata": {},
     "output_type": "execute_result"
    },
    {
     "data": {
      "image/png": "[encoded data removed]",
      "text/plain": [
       "<Figure size 432x288 with 1 Axes>"
      ]
     },
     "metadata": {
      "needs_background": "light"
     },
     "output_type": "display_data"
    }
   ],
   "source": [
    "plt.hist(tree[\"M\"].array())"
   ]
  },
  {
   "cell_type": "markdown",
   "id": "e4cc1fb7",
   "metadata": {},
   "source": [
    "These methods are useful, but limited. For serious analysis, we need a histogram object that we can work with.\n",
    "\n",
    "The hist library (based on boost-histogram in C++) is the standard tool in the scientific Python ecosystem for creating, manipulating, and visualizing histograms."
   ]
  },
  {
   "cell_type": "markdown",
   "id": "39c0f855",
   "metadata": {},
   "source": [
    "### 3. Boost-histogram and hist\n",
    "\n",
    "The main feature that these functions lack (without some effort) is refillability. High-energy physicists usually want to fill histograms with more data than can fit in memory, which means setting bin intervals on an empty container and filling it in batches (sequentially or in parallel).\n",
    "\n",
    "Boost-histogram is a library designed for that purpose. It is intended as an infrastructure component. You can explore its “low-level” functionality upon importing it:"
   ]
  },
  {
   "cell_type": "code",
   "execution_count": 10,
   "id": "88a75156",
   "metadata": {},
   "outputs": [],
   "source": [
    "import boost_histogram as bh\n",
    "import hist"
   ]
  },
  {
   "cell_type": "code",
   "execution_count": 11,
   "id": "ce6e85e3",
   "metadata": {},
   "outputs": [
    {
     "data": {
      "text/plain": [
       "[StairsArtists(stairs=<matplotlib.patches.StepPatch object at 0x7f7c0cbd17d0>, errorbar=<ErrorbarContainer object of 3 artists>, legend_artist=<ErrorbarContainer object of 3 artists>)]"
      ]
     },
     "execution_count": 11,
     "metadata": {},
     "output_type": "execute_result"
    },
    {
     "data": {
      "image/png": "[encoded data removed]",
      "text/plain": [
       "<Figure size 432x288 with 1 Axes>"
      ]
     },
     "metadata": {
      "needs_background": "light"
     },
     "output_type": "display_data"
    }
   ],
   "source": [
    "h = hist.Hist(hist.axis.Regular(120, 60, 120, name=\"mass\"))\n",
    "\n",
    "h.fill(tree[\"M\"].array())\n",
    "\n",
    "h.plot()"
   ]
  },
  {
   "cell_type": "markdown",
   "id": "d68c1b7a",
   "metadata": {},
   "source": [
    "The big advantage is that h is not just a drawing, it is a data object."
   ]
  },
  {
   "cell_type": "code",
   "execution_count": 12,
   "id": "01b54b46",
   "metadata": {},
   "outputs": [
    {
     "data": {
      "text/plain": [
       "[StairsArtists(stairs=<matplotlib.patches.StepPatch object at 0x7f7b6cbc6ed0>, errorbar=<ErrorbarContainer object of 3 artists>, legend_artist=<ErrorbarContainer object of 3 artists>)]"
      ]
     },
     "execution_count": 12,
     "metadata": {},
     "output_type": "execute_result"
    },
    {
     "data": {
      "image/png": "[encoded data removed]",
      "text/plain": [
       "<Figure size 432x288 with 1 Axes>"
      ]
     },
     "metadata": {
      "needs_background": "light"
     },
     "output_type": "display_data"
    }
   ],
   "source": [
    "h[10:110].plot()"
   ]
  },
  {
   "cell_type": "code",
   "execution_count": 13,
   "id": "ac149e1a",
   "metadata": {},
   "outputs": [
    {
     "data": {
      "text/plain": [
       "[StairsArtists(stairs=<matplotlib.patches.StepPatch object at 0x7f7b6cc529d0>, errorbar=<ErrorbarContainer object of 3 artists>, legend_artist=<ErrorbarContainer object of 3 artists>)]"
      ]
     },
     "execution_count": 13,
     "metadata": {},
     "output_type": "execute_result"
    },
    {
     "data": {
      "image/png": "[encoded data removed]",
      "text/plain": [
       "<Figure size 432x288 with 1 Axes>"
      ]
     },
     "metadata": {
      "needs_background": "light"
     },
     "output_type": "display_data"
    }
   ],
   "source": [
    "# explicit version\n",
    "h[hist.loc(90) :].plot()"
   ]
  },
  {
   "cell_type": "markdown",
   "id": "3019634b",
   "metadata": {},
   "source": [
    "### 4. Histogram Manipulation: Slicing and Rebinning\n",
    "\n",
    "hist supports a very powerful syntax called UHI (Unified Histogram Indexing) for selecting and manipulating data.\n",
    "\n",
    "Slicing by value, we can select ranges from the histogram using the axis values, not just the bin indices."
   ]
  },
  {
   "cell_type": "code",
   "execution_count": 14,
   "id": "4301b093",
   "metadata": {},
   "outputs": [
    {
     "data": {
      "text/plain": [
       "[StairsArtists(stairs=<matplotlib.patches.StepPatch object at 0x7f7b6cae2590>, errorbar=<ErrorbarContainer object of 3 artists>, legend_artist=<ErrorbarContainer object of 3 artists>)]"
      ]
     },
     "execution_count": 14,
     "metadata": {},
     "output_type": "execute_result"
    },
    {
     "data": {
      "image/png": "[encoded data removed]",
      "text/plain": [
       "<Figure size 432x288 with 1 Axes>"
      ]
     },
     "metadata": {
      "needs_background": "light"
     },
     "output_type": "display_data"
    }
   ],
   "source": [
    "# short version\n",
    "\n",
    "h[90j:].plot()"
   ]
  },
  {
   "cell_type": "markdown",
   "id": "51111492",
   "metadata": {},
   "source": [
    "Rebin by a factor"
   ]
  },
  {
   "cell_type": "code",
   "execution_count": 15,
   "id": "de70bbb2",
   "metadata": {},
   "outputs": [
    {
     "data": {
      "text/plain": [
       "[StairsArtists(stairs=<matplotlib.patches.StepPatch object at 0x7f7b6ce3a4d0>, errorbar=<ErrorbarContainer object of 3 artists>, legend_artist=<ErrorbarContainer object of 3 artists>)]"
      ]
     },
     "execution_count": 15,
     "metadata": {},
     "output_type": "execute_result"
    },
    {
     "data": {
      "image/png": "[encoded data removed]",
      "text/plain": [
       "<Figure size 432x288 with 1 Axes>"
      ]
     },
     "metadata": {
      "needs_background": "light"
     },
     "output_type": "display_data"
    }
   ],
   "source": [
    "# Explicit version\n",
    "\n",
    "h[:: hist.rebin(2)].plot()"
   ]
  },
  {
   "cell_type": "code",
   "execution_count": 17,
   "id": "3b5de67c",
   "metadata": {},
   "outputs": [
    {
     "data": {
      "text/plain": [
       "[StairsArtists(stairs=<matplotlib.patches.StepPatch object at 0x7f7b6c8a4650>, errorbar=<ErrorbarContainer object of 3 artists>, legend_artist=<ErrorbarContainer object of 3 artists>)]"
      ]
     },
     "execution_count": 17,
     "metadata": {},
     "output_type": "execute_result"
    },
    {
     "data": {
      "image/png": "[encoded data removed]",
      "text/plain": [
       "<Figure size 432x288 with 1 Axes>"
      ]
     },
     "metadata": {
      "needs_background": "light"
     },
     "output_type": "display_data"
    }
   ],
   "source": [
    "# Short version\n",
    "\n",
    "h[::2j].plot()"
   ]
  },
  {
   "cell_type": "markdown",
   "id": "34e6d80f",
   "metadata": {},
   "source": [
    "Sum over a range."
   ]
  },
  {
   "cell_type": "code",
   "execution_count": 18,
   "id": "2824685d",
   "metadata": {},
   "outputs": [
    {
     "data": {
      "text/plain": [
       "1102.0"
      ]
     },
     "execution_count": 18,
     "metadata": {},
     "output_type": "execute_result"
    }
   ],
   "source": [
    "# Explicit Version\n",
    "\n",
    "h[hist.loc(90) : hist.loc(100) : sum]"
   ]
  },
  {
   "cell_type": "code",
   "execution_count": 19,
   "id": "737d3d08",
   "metadata": {},
   "outputs": [
    {
     "data": {
      "text/plain": [
       "1102.0"
      ]
     },
     "execution_count": 19,
     "metadata": {},
     "output_type": "execute_result"
    }
   ],
   "source": [
    "# Short Version\n",
    "\n",
    "h[90j:100j:sum]"
   ]
  },
  {
   "cell_type": "markdown",
   "id": "7146f4f1",
   "metadata": {},
   "source": [
    "Things get more interesting when a histogram has multiple dimensions."
   ]
  },
  {
   "cell_type": "markdown",
   "id": "a07e5410",
   "metadata": {},
   "source": [
    "### 5. Multidimensional Histograms\n",
    "\n",
    "hist really shines with data from more than one dimension.\n",
    "\n",
    "Creating a 3D histogram: Let's make a histogram of the position of the primary vertex (x, y, z) of the collision.\n"
   ]
  },
  {
   "cell_type": "code",
   "execution_count": 20,
   "id": "0d07da37",
   "metadata": {},
   "outputs": [],
   "source": [
    "import hist"
   ]
  },
  {
   "cell_type": "code",
   "execution_count": 21,
   "id": "b40b298e",
   "metadata": {},
   "outputs": [],
   "source": [
    "picodst = uproot.open(\"https://pivarski-princeton.s3.amazonaws.com/pythia_ppZee_run17emb.picoDst.root:PicoDst\")"
   ]
  },
  {
   "cell_type": "code",
   "execution_count": 22,
   "id": "704c95c9",
   "metadata": {},
   "outputs": [
    {
     "name": "stdout",
     "output_type": "stream",
     "text": [
      "name                 | typename                 | interpretation                \n",
      "---------------------+--------------------------+-------------------------------\n",
      "Event                | int32_t                  | AsDtype('>i4')\n",
      "Event/Event.mRunId   | int32_t[]                | AsJagged(AsDtype('>i4'))\n",
      "Event/Event.mEventId | int32_t[]                | AsJagged(AsDtype('>i4'))\n",
      "Event/Event.mFillId  | uint16_t[]               | AsJagged(AsDtype('>u2'))\n",
      "Event/Event.mBField  | float[]                  | AsJagged(AsDtype('>f4'))\n",
      "Event/Event.mTime    | int32_t[]                | AsJagged(AsDtype('>i4'))\n",
      "Event/Event.mPrim... | float[]                  | AsJagged(AsDtype('>f4'))\n",
      "Event/Event.mPrim... | float[]                  | AsJagged(AsDtype('>f4'))\n",
      "Event/Event.mPrim... | float[]                  | AsJagged(AsDtype('>f4'))\n",
      "Event/Event.mPrim... | float[]                  | AsJagged(AsDtype('>f4'))\n",
      "Event/Event.mPrim... | float[]                  | AsJagged(AsDtype('>f4'))\n",
      "Event/Event.mPrim... | float[]                  | AsJagged(AsDtype('>f4'))\n",
      "Event/Event.mRanking | float[]                  | AsJagged(AsDtype('>f4'))\n",
      "Event/Event.mNBEM... | uint16_t[]               | AsJagged(AsDtype('>u2'))\n",
      "Event/Event.mNBTO... | uint16_t[]               | AsJagged(AsDtype('>u2'))\n",
      "Event/Event.mTrig... | std::vector<uint32_t>[]  | AsObjects(AsArray(True, Fal...\n",
      "Event/Event.mRefM... | uint16_t[]               | AsJagged(AsDtype('>u2'))\n",
      "Event/Event.mRefM... | uint16_t[]               | AsJagged(AsDtype('>u2'))\n",
      "Event/Event.mRefM... | uint16_t[]               | AsJagged(AsDtype('>u2'))\n",
      "Event/Event.mRefM... | uint16_t[]               | AsJagged(AsDtype('>u2'))\n",
      "Event/Event.mRefM... | uint16_t[]               | AsJagged(AsDtype('>u2'))\n",
      "Event/Event.mRefM... | uint16_t[]               | AsJagged(AsDtype('>u2'))\n",
      "Event/Event.mRefM... | uint16_t[]               | AsJagged(AsDtype('>u2'))\n",
      "Event/Event.mRefM... | uint16_t[]               | AsJagged(AsDtype('>u2'))\n",
      "Event/Event.mRefM... | uint16_t[]               | AsJagged(AsDtype('>u2'))\n",
      "Event/Event.mRefM... | uint16_t[]               | AsJagged(AsDtype('>u2'))\n",
      "Event/Event.mRefM... | uint16_t[]               | AsJagged(AsDtype('>u2'))\n",
      "Event/Event.mRefM... | uint16_t[]               | AsJagged(AsDtype('>u2'))\n",
      "Event/Event.mRefM... | uint16_t[]               | AsJagged(AsDtype('>u2'))\n",
      "Event/Event.mRefM... | uint16_t[]               | AsJagged(AsDtype('>u2'))\n",
      "Event/Event.mRefM... | uint16_t[]               | AsJagged(AsDtype('>u2'))\n",
      "Event/Event.mRefM... | uint16_t[]               | AsJagged(AsDtype('>u2'))\n",
      "Event/Event.mRefM... | uint16_t[]               | AsJagged(AsDtype('>u2'))\n",
      "Event/Event.mRefM... | uint16_t[]               | AsJagged(AsDtype('>u2'))\n",
      "Event/Event.mRefM... | uint16_t[]               | AsJagged(AsDtype('>u2'))\n",
      "Event/Event.mRefM... | uint16_t[]               | AsJagged(AsDtype('>u2'))\n",
      "Event/Event.mGRef... | uint16_t[]               | AsJagged(AsDtype('>u2'))\n",
      "Event/Event.mNumb... | uint16_t[]               | AsJagged(AsDtype('>u2'))\n",
      "Event/Event.mbTof... | uint16_t[]               | AsJagged(AsDtype('>u2'))\n",
      "Event/Event.mNHit... | uint16_t[][4]            | AsJagged(AsDtype(\"('>u2', (...\n",
      "Event/Event.mNVpd... | uint8_t[]                | AsJagged(AsDtype('uint8'))\n",
      "Event/Event.mNVpd... | uint8_t[]                | AsJagged(AsDtype('uint8'))\n",
      "Event/Event.mNTofT0  | uint16_t[]               | AsJagged(AsDtype('>u2'))\n",
      "Event/Event.mVzVpd   | float[]                  | AsJagged(AsDtype('>f4'))\n",
      "Event/Event.mZDCx    | uint32_t[]               | AsJagged(AsDtype('>u4'))\n",
      "Event/Event.mBBCx    | uint32_t[]               | AsJagged(AsDtype('>u4'))\n",
      "Event/Event.mBack... | float[]                  | AsJagged(AsDtype('>f4'))\n",
      "Event/Event.mBbcB... | float[]                  | AsJagged(AsDtype('>f4'))\n",
      "Event/Event.mBbcY... | float[]                  | AsJagged(AsDtype('>f4'))\n",
      "Event/Event.mBbcE... | float[]                  | AsJagged(AsDtype('>f4'))\n",
      "Event/Event.mBbcW... | float[]                  | AsJagged(AsDtype('>f4'))\n",
      "Event/Event.mZdcE... | float[]                  | AsJagged(AsDtype('>f4'))\n",
      "Event/Event.mZdcW... | float[]                  | AsJagged(AsDtype('>f4'))\n",
      "Event/Event.mZdcS... | uint16_t[]               | AsJagged(AsDtype('>u2'))\n",
      "Event/Event.mZdcS... | uint16_t[]               | AsJagged(AsDtype('>u2'))\n",
      "Event/Event.mZdcS... | uint16_t[][8]            | AsJagged(AsDtype(\"('>u2', (...\n",
      "Event/Event.mZdcS... | uint16_t[][8]            | AsJagged(AsDtype(\"('>u2', (...\n",
      "Event/Event.mZdcS... | uint16_t[][8]            | AsJagged(AsDtype(\"('>u2', (...\n",
      "Event/Event.mZdcS... | uint16_t[][8]            | AsJagged(AsDtype(\"('>u2', (...\n",
      "Event/Event.mBbcA... | uint16_t[][24]           | AsJagged(AsDtype(\"('>u2', (...\n",
      "Event/Event.mBbcA... | uint16_t[][24]           | AsJagged(AsDtype(\"('>u2', (...\n",
      "Event/Event.mHigh... | uint8_t[][4]             | AsJagged(AsDtype(\"('u1', (4...\n",
      "Event/Event.mJetP... | uint8_t[][4]             | AsJagged(AsDtype(\"('u1', (4...\n",
      "Event/Event.mBunc... | uint8_t[]                | AsJagged(AsDtype('uint8'))\n",
      "Event/Event.mETof... | uint16_t[]               | AsJagged(AsDtype('>u2'))\n",
      "Event/Event.mETof... | uint16_t[]               | AsJagged(AsDtype('>u2'))\n",
      "Track                | int32_t                  | AsDtype('>i4')\n",
      "Track/Track.mId      | uint16_t[]               | AsJagged(AsDtype('>u2'))\n",
      "Track/Track.mChi2    | uint16_t[]               | AsJagged(AsDtype('>u2'))\n",
      "Track/Track.mPMom... | float[]                  | AsJagged(AsDtype('>f4'))\n",
      "Track/Track.mPMom... | float[]                  | AsJagged(AsDtype('>f4'))\n",
      "Track/Track.mPMom... | float[]                  | AsJagged(AsDtype('>f4'))\n",
      "Track/Track.mGMom... | float[]                  | AsJagged(AsDtype('>f4'))\n",
      "Track/Track.mGMom... | float[]                  | AsJagged(AsDtype('>f4'))\n",
      "Track/Track.mGMom... | float[]                  | AsJagged(AsDtype('>f4'))\n",
      "Track/Track.mOriginX | float[]                  | AsJagged(AsDtype('>f4'))\n",
      "Track/Track.mOriginY | float[]                  | AsJagged(AsDtype('>f4'))\n",
      "Track/Track.mOriginZ | float[]                  | AsJagged(AsDtype('>f4'))\n",
      "Track/Track.mDedx    | Float16_t[]              | AsJagged(AsFloat16(0, 0, 12))\n",
      "Track/Track.mDedx... | Float16_t[]              | AsJagged(AsFloat16(0, 0, 12))\n",
      "Track/Track.mNHit... | int8_t[]                 | AsJagged(AsDtype('int8'))\n",
      "Track/Track.mNHit... | uint8_t[]                | AsJagged(AsDtype('uint8'))\n",
      "Track/Track.mNHit... | uint8_t[]                | AsJagged(AsDtype('uint8'))\n",
      "Track/Track.mNSig... | int16_t[]                | AsJagged(AsDtype('>i2'))\n",
      "Track/Track.mNSig... | int16_t[]                | AsJagged(AsDtype('>i2'))\n",
      "Track/Track.mNSig... | int16_t[]                | AsJagged(AsDtype('>i2'))\n",
      "Track/Track.mNSig... | int16_t[]                | AsJagged(AsDtype('>i2'))\n",
      "Track/Track.mTopo... | uint32_t[][2]            | AsJagged(AsDtype(\"('>u4', (...\n",
      "Track/Track.mBEmc... | int16_t[]                | AsJagged(AsDtype('>i2'))\n",
      "Track/Track.mBTof... | int16_t[]                | AsJagged(AsDtype('>i2'))\n",
      "Track/Track.mMtdP... | int16_t[]                | AsJagged(AsDtype('>i2'))\n",
      "Track/Track.mETof... | int16_t[]                | AsJagged(AsDtype('>i2'))\n",
      "Track/Track.mBEmc... | int16_t[]                | AsJagged(AsDtype('>i2'))\n",
      "Track/Track.mTopo... | uint64_t[]               | AsJagged(AsDtype('>u8'))\n",
      "EmcTrigger           | int32_t                  | AsDtype('>i4')\n",
      "EmcTrigger/EmcTri... | uint8_t[]                | AsJagged(AsDtype('uint8'))\n",
      "EmcTrigger/EmcTri... | uint16_t[]               | AsJagged(AsDtype('>u2'))\n",
      "EmcTrigger/EmcTri... | uint16_t[]               | AsJagged(AsDtype('>u2'))\n",
      "EmcTrigger/EmcTri... | std::vector<uint16_t>[]  | AsObjects(AsArray(True, Fal...\n",
      "EmcTrigger/EmcTri... | std::vector<uint16_t>[]  | AsObjects(AsArray(True, Fal...\n",
      "MtdTrigger           | int32_t                  | AsDtype('>i4')\n",
      "MtdTrigger/MtdTri... | uint16_t[]               | AsJagged(AsDtype('>u2'))\n",
      "MtdTrigger/MtdTri... | uint32_t[][2]            | AsJagged(AsDtype(\"('>u4', (...\n",
      "MtdTrigger/MtdTri... | uint16_t[][64]           | AsJagged(AsDtype(\"('>u2', (...\n",
      "MtdTrigger/MtdTri... | uint16_t[][16]           | AsJagged(AsDtype(\"('>u2', (...\n",
      "MtdTrigger/MtdTri... | uint8_t[][16]            | AsJagged(AsDtype(\"('u1', (1...\n",
      "MtdTrigger/MtdTri... | uint32_t[]               | AsJagged(AsDtype('>u4'))\n",
      "MtdTrigger/MtdTri... | int8_t[]                 | AsJagged(AsDtype('int8'))\n",
      "BTowHit              | int32_t                  | AsDtype('>i4')\n",
      "BTowHit/BTowHit.mAdc | uint16_t[]               | AsJagged(AsDtype('>u2'))\n",
      "BTowHit/BTowHit.mE   | int16_t[]                | AsJagged(AsDtype('>i2'))\n",
      "BTofHit              | int32_t                  | AsDtype('>i4')\n",
      "BTofHit/BTofHit.mId  | int16_t[]                | AsJagged(AsDtype('>i2'))\n",
      "MtdHit               | int32_t                  | AsDtype('>i4')\n",
      "MtdHit/MtdHit.mgC... | int16_t[]                | AsJagged(AsDtype('>i2'))\n",
      "MtdHit/MtdHit.mTr... | uint8_t[]                | AsJagged(AsDtype('uint8'))\n",
      "MtdHit/MtdHit.mLe... | float[]                  | AsJagged(AsDtype('>f4'))\n",
      "MtdHit/MtdHit.mLe... | float[]                  | AsJagged(AsDtype('>f4'))\n",
      "MtdHit/MtdHit.mTr... | float[]                  | AsJagged(AsDtype('>f4'))\n",
      "MtdHit/MtdHit.mTr... | float[]                  | AsJagged(AsDtype('>f4'))\n",
      "BbcHit               | int32_t                  | AsDtype('>i4')\n",
      "BbcHit/BbcHit.mId    | int16_t[]                | AsJagged(AsDtype('>i2'))\n",
      "BbcHit/BbcHit.mQT... | int32_t[]                | AsJagged(AsDtype('>i4'))\n",
      "EpdHit               | int32_t                  | AsDtype('>i4')\n",
      "EpdHit/EpdHit.mId    | int16_t[]                | AsJagged(AsDtype('>i2'))\n",
      "EpdHit/EpdHit.mQT... | int32_t[]                | AsJagged(AsDtype('>i4'))\n",
      "EpdHit/EpdHit.mnMIP  | float[]                  | AsJagged(AsDtype('>f4'))\n",
      "FmsHit               | int32_t                  | AsDtype('>i4')\n",
      "FmsHit/FmsHit.mCh... | uint16_t[]               | AsJagged(AsDtype('>u2'))\n",
      "FmsHit/FmsHit.mAdc   | uint16_t[]               | AsJagged(AsDtype('>u2'))\n",
      "EmcPidTraits         | int32_t                  | AsDtype('>i4')\n",
      "EmcPidTraits/EmcP... | int16_t[]                | AsJagged(AsDtype('>i2'))\n",
      "EmcPidTraits/EmcP... | int16_t[]                | AsJagged(AsDtype('>i2'))\n",
      "EmcPidTraits/EmcP... | int16_t[]                | AsJagged(AsDtype('>i2'))\n",
      "EmcPidTraits/EmcP... | int16_t[]                | AsJagged(AsDtype('>i2'))\n",
      "EmcPidTraits/EmcP... | int16_t[]                | AsJagged(AsDtype('>i2'))\n",
      "EmcPidTraits/EmcP... | int16_t[]                | AsJagged(AsDtype('>i2'))\n",
      "EmcPidTraits/EmcP... | int16_t[]                | AsJagged(AsDtype('>i2'))\n",
      "EmcPidTraits/EmcP... | uint8_t[]                | AsJagged(AsDtype('uint8'))\n",
      "EmcPidTraits/EmcP... | uint8_t[]                | AsJagged(AsDtype('uint8'))\n",
      "EmcPidTraits/EmcP... | int16_t[]                | AsJagged(AsDtype('>i2'))\n",
      "EmcPidTraits/EmcP... | int8_t[]                 | AsJagged(AsDtype('int8'))\n",
      "EmcPidTraits/EmcP... | int16_t[]                | AsJagged(AsDtype('>i2'))\n",
      "EmcPidTraits/EmcP... | int16_t[]                | AsJagged(AsDtype('>i2'))\n",
      "EmcPidTraits/EmcP... | int16_t[]                | AsJagged(AsDtype('>i2'))\n",
      "EmcPidTraits/EmcP... | int16_t[]                | AsJagged(AsDtype('>i2'))\n",
      "EmcPidTraits/EmcP... | int16_t[]                | AsJagged(AsDtype('>i2'))\n",
      "BTofPidTraits        | int32_t                  | AsDtype('>i4')\n",
      "BTofPidTraits/BTo... | int16_t[]                | AsJagged(AsDtype('>i2'))\n",
      "BTofPidTraits/BTo... | int16_t[]                | AsJagged(AsDtype('>i2'))\n",
      "BTofPidTraits/BTo... | uint8_t[]                | AsJagged(AsDtype('uint8'))\n",
      "BTofPidTraits/BTo... | float[]                  | AsJagged(AsDtype('>f4'))\n",
      "BTofPidTraits/BTo... | uint16_t[]               | AsJagged(AsDtype('>u2'))\n",
      "BTofPidTraits/BTo... | int16_t[]                | AsJagged(AsDtype('>i2'))\n",
      "BTofPidTraits/BTo... | int16_t[]                | AsJagged(AsDtype('>i2'))\n",
      "BTofPidTraits/BTo... | int16_t[]                | AsJagged(AsDtype('>i2'))\n",
      "BTofPidTraits/BTo... | int16_t[]                | AsJagged(AsDtype('>i2'))\n",
      "BTofPidTraits/BTo... | int16_t[]                | AsJagged(AsDtype('>i2'))\n",
      "MtdPidTraits         | int32_t                  | AsDtype('>i4')\n",
      "MtdPidTraits/MtdP... | int16_t[]                | AsJagged(AsDtype('>i2'))\n",
      "MtdPidTraits/MtdP... | int16_t[]                | AsJagged(AsDtype('>i2'))\n",
      "MtdPidTraits/MtdP... | int8_t[]                 | AsJagged(AsDtype('int8'))\n",
      "MtdPidTraits/MtdP... | int16_t[]                | AsJagged(AsDtype('>i2'))\n",
      "MtdPidTraits/MtdP... | int16_t[]                | AsJagged(AsDtype('>i2'))\n",
      "MtdPidTraits/MtdP... | float[]                  | AsJagged(AsDtype('>f4'))\n",
      "MtdPidTraits/MtdP... | uint16_t[]               | AsJagged(AsDtype('>u2'))\n",
      "MtdPidTraits/MtdP... | int16_t[]                | AsJagged(AsDtype('>i2'))\n",
      "TrackCovMatrix       | int32_t                  | AsDtype('>i4')\n",
      "TrackCovMatrix/Tr... | Float16_t[]              | AsJagged(AsFloat16(0, 0, 12))\n",
      "TrackCovMatrix/Tr... | Float16_t[]              | AsJagged(AsFloat16(0, 0, 12))\n",
      "TrackCovMatrix/Tr... | Float16_t[]              | AsJagged(AsFloat16(-3.14159...\n",
      "TrackCovMatrix/Tr... | Float16_t[]              | AsJagged(AsFloat16(0, 0, 12))\n",
      "TrackCovMatrix/Tr... | Float16_t[]              | AsJagged(AsFloat16(-10.0, 1...\n",
      "TrackCovMatrix/Tr... | Float16_t[]              | AsJagged(AsFloat16(0, 0, 12))\n",
      "TrackCovMatrix/Tr... | Float16_t[][5]           | AsJagged(AsFloat16(0, 0, 12...\n",
      "TrackCovMatrix/Tr... | Float16_t[][10]          | AsJagged(AsFloat16(-1.0, 1....\n",
      "BEmcSmdEHit          | int32_t                  | AsDtype('>i4')\n",
      "BEmcSmdEHit/BEmcS... | int16_t[]                | AsJagged(AsDtype('>i2'))\n",
      "BEmcSmdEHit/BEmcS... | int16_t[]                | AsJagged(AsDtype('>i2'))\n",
      "BEmcSmdEHit/BEmcS... | float[]                  | AsJagged(AsDtype('>f4'))\n",
      "BEmcSmdPHit          | int32_t                  | AsDtype('>i4')\n",
      "BEmcSmdPHit/BEmcS... | int16_t[]                | AsJagged(AsDtype('>i2'))\n",
      "BEmcSmdPHit/BEmcS... | int16_t[]                | AsJagged(AsDtype('>i2'))\n",
      "BEmcSmdPHit/BEmcS... | float[]                  | AsJagged(AsDtype('>f4'))\n",
      "ETofHit              | int32_t                  | AsDtype('>i4')\n",
      "ETofHit/ETofHit.m... | uint8_t[]                | AsJagged(AsDtype('uint8'))\n",
      "ETofHit/ETofHit.m... | int16_t[]                | AsJagged(AsDtype('>i2'))\n",
      "ETofHit/ETofHit.m... | int16_t[]                | AsJagged(AsDtype('>i2'))\n",
      "ETofHit/ETofHit.m... | uint8_t[]                | AsJagged(AsDtype('uint8'))\n",
      "ETofHit/ETofHit.m... | float[]                  | AsJagged(AsDtype('>f4'))\n",
      "ETofHit/ETofHit.m... | uint16_t[]               | AsJagged(AsDtype('>u2'))\n",
      "ETofPidTraits        | int32_t                  | AsDtype('>i4')\n",
      "ETofPidTraits/ETo... | int16_t[]                | AsJagged(AsDtype('>i2'))\n",
      "ETofPidTraits/ETo... | int16_t[]                | AsJagged(AsDtype('>i2'))\n",
      "ETofPidTraits/ETo... | int8_t[]                 | AsJagged(AsDtype('int8'))\n",
      "ETofPidTraits/ETo... | float[]                  | AsJagged(AsDtype('>f4'))\n",
      "ETofPidTraits/ETo... | uint16_t[]               | AsJagged(AsDtype('>u2'))\n",
      "ETofPidTraits/ETo... | int16_t[]                | AsJagged(AsDtype('>i2'))\n",
      "ETofPidTraits/ETo... | int16_t[]                | AsJagged(AsDtype('>i2'))\n",
      "ETofPidTraits/ETo... | int16_t[]                | AsJagged(AsDtype('>i2'))\n",
      "ETofPidTraits/ETo... | int16_t[]                | AsJagged(AsDtype('>i2'))\n",
      "ETofPidTraits/ETo... | int16_t[]                | AsJagged(AsDtype('>i2'))\n"
     ]
    }
   ],
   "source": [
    "picodst.show()"
   ]
  },
  {
   "cell_type": "code",
   "execution_count": 23,
   "id": "e4e633a4",
   "metadata": {},
   "outputs": [],
   "source": [
    "vertexhist = hist.Hist(\n",
    "    hist.axis.Regular(600, -1, 1, label=\"x\"),\n",
    "    hist.axis.Regular(600, -1, 1, label=\"y\"),\n",
    "    hist.axis.Regular(600, -1, 1, label=\"z\"),\n",
    "\n",
    ")"
   ]
  },
  {
   "cell_type": "code",
   "execution_count": 24,
   "id": "7ef171c7",
   "metadata": {},
   "outputs": [],
   "source": [
    "vertex_data = picodst.arrays(filter_name=\"*mPrimaryVertex[XYZ]\")"
   ]
  },
  {
   "cell_type": "code",
   "execution_count": 25,
   "id": "b583d38b",
   "metadata": {},
   "outputs": [
    {
     "data": {
      "text/plain": [
       "Hist(\n",
       "  Regular(600, -1, 1, label='x'),\n",
       "  Regular(600, -1, 1, label='y'),\n",
       "  Regular(600, -1, 1, label='z'),\n",
       "  storage=Double()) # Sum: 141.0 (8004.0 with flow)"
      ]
     },
     "execution_count": 25,
     "metadata": {},
     "output_type": "execute_result"
    }
   ],
   "source": [
    "vertexhist.fill(\n",
    "    ak.flatten(vertex_data[\"Event.mPrimaryVertexX\"]),\n",
    "    ak.flatten(vertex_data[\"Event.mPrimaryVertexY\"]),\n",
    "    ak.flatten(vertex_data[\"Event.mPrimaryVertexZ\"]),\n",
    ")"
   ]
  },
  {
   "cell_type": "markdown",
   "id": "b9775edf",
   "metadata": {},
   "source": [
    "The most common operation with multidimensional histograms is projection: collapsing one or more dimensions to view the others."
   ]
  },
  {
   "cell_type": "code",
   "execution_count": 28,
   "id": "e1c7a64d",
   "metadata": {},
   "outputs": [
    {
     "data": {
      "text/plain": [
       "(ColormeshArtists(pcolormesh=<matplotlib.collections.QuadMesh object at 0x7f7b036cf290>, cbar=None, text=[]),\n",
       " [StairsArtists(stairs=<matplotlib.patches.StepPatch object at 0x7f7b039d0090>, errorbar=<ErrorbarContainer object of 3 artists>, legend_artist=<ErrorbarContainer object of 3 artists>)],\n",
       " [StairsArtists(stairs=<matplotlib.patches.StepPatch object at 0x7f7b038b3c50>, errorbar=<ErrorbarContainer object of 3 artists>, legend_artist=<ErrorbarContainer object of 3 artists>)])"
      ]
     },
     "execution_count": 28,
     "metadata": {},
     "output_type": "execute_result"
    },
    {
     "data": {
      "image/png": "[encoded data removed]",
      "text/plain": [
       "<Figure size 432x288 with 3 Axes>"
      ]
     },
     "metadata": {
      "needs_background": "light"
     },
     "output_type": "display_data"
    }
   ],
   "source": [
    "vertexhist[:, :, sum].plot2d_full()"
   ]
  },
  {
   "cell_type": "code",
   "execution_count": 29,
   "id": "1e6328cb",
   "metadata": {},
   "outputs": [
    {
     "data": {
      "text/plain": [
       "(ColormeshArtists(pcolormesh=<matplotlib.collections.QuadMesh object at 0x7f7b0349bc90>, cbar=None, text=[]),\n",
       " [StairsArtists(stairs=<matplotlib.patches.StepPatch object at 0x7f7b034b0190>, errorbar=<ErrorbarContainer object of 3 artists>, legend_artist=<ErrorbarContainer object of 3 artists>)],\n",
       " [StairsArtists(stairs=<matplotlib.patches.StepPatch object at 0x7f7b035b2f90>, errorbar=<ErrorbarContainer object of 3 artists>, legend_artist=<ErrorbarContainer object of 3 artists>)])"
      ]
     },
     "execution_count": 29,
     "metadata": {},
     "output_type": "execute_result"
    },
    {
     "data": {
      "image/png": "[encoded data removed]",
      "text/plain": [
       "<Figure size 432x288 with 3 Axes>"
      ]
     },
     "metadata": {
      "needs_background": "light"
     },
     "output_type": "display_data"
    }
   ],
   "source": [
    "vertexhist[-0.25j:0.25j, -0.25j:0.25j, sum].plot2d_full()"
   ]
  },
  {
   "cell_type": "code",
   "execution_count": 30,
   "id": "a879e42e",
   "metadata": {},
   "outputs": [
    {
     "data": {
      "text/plain": [
       "[StairsArtists(stairs=<matplotlib.patches.StepPatch object at 0x7f7b0338a590>, errorbar=<ErrorbarContainer object of 3 artists>, legend_artist=<ErrorbarContainer object of 3 artists>)]"
      ]
     },
     "execution_count": 30,
     "metadata": {},
     "output_type": "execute_result"
    },
    {
     "data": {
      "image/png": "[encoded data removed]",
      "text/plain": [
       "<Figure size 432x288 with 1 Axes>"
      ]
     },
     "metadata": {
      "needs_background": "light"
     },
     "output_type": "display_data"
    }
   ],
   "source": [
    "vertexhist[sum, sum, :].plot()"
   ]
  },
  {
   "cell_type": "code",
   "execution_count": 31,
   "id": "3eee50f1",
   "metadata": {},
   "outputs": [
    {
     "data": {
      "text/plain": [
       "[StairsArtists(stairs=<matplotlib.patches.StepPatch object at 0x7f7b032e62d0>, errorbar=<ErrorbarContainer object of 3 artists>, legend_artist=<ErrorbarContainer object of 3 artists>)]"
      ]
     },
     "execution_count": 31,
     "metadata": {},
     "output_type": "execute_result"
    },
    {
     "data": {
      "image/png": "[encoded data removed]",
      "text/plain": [
       "<Figure size 432x288 with 1 Axes>"
      ]
     },
     "metadata": {
      "needs_background": "light"
     },
     "output_type": "display_data"
    }
   ],
   "source": [
    "vertexhist[-0.25j:0.25j:sum, -0.25j:0.25j:sum, :].plot()"
   ]
  },
  {
   "cell_type": "markdown",
   "id": "6a3dbc2b",
   "metadata": {},
   "source": [
    "### 6. Model Fitting with iminuit and zfit\n",
    "\n",
    "Now that we have a clean histogram of the Z peak, we can fit a mathematical function to it to extract its properties, such as its mass ($\\mu$) and width ($\\Gamma$).\n",
    "\n",
    "Option 1: iminuit\n",
    "\n",
    "iminuit is the Python interface to MINUIT, the historical standard in particle physics for error minimization and fitting."
   ]
  },
  {
   "cell_type": "code",
   "execution_count": 37,
   "id": "e9b80832",
   "metadata": {},
   "outputs": [],
   "source": [
    "import iminuit.cost"
   ]
  },
  {
   "cell_type": "code",
   "execution_count": 38,
   "id": "6211ccee",
   "metadata": {},
   "outputs": [],
   "source": [
    "norm = len(h.axes[0].widths) / (h.axes[0].edges[-1] - h.axes[0].edges[0]) / h.sum()"
   ]
  },
  {
   "cell_type": "code",
   "execution_count": 39,
   "id": "87e83d5d",
   "metadata": {},
   "outputs": [
    {
     "name": "stderr",
     "output_type": "stream",
     "text": [
      "/cvmfs/sft.cern.ch/lcg/views/LCG_107_swan/x86_64-el9-gcc13-opt/lib/python3.11/site-packages/numba/core/dispatcher.py:289: UserWarning: Numba extension module 'awkward.numba' failed to load due to 'AttributeError(module 'awkward.numba' has no attribute 'register')'.\n",
      "  entrypoints.init_all()\n"
     ]
    },
    {
     "data": {
      "text/plain": [
       "[<matplotlib.lines.Line2D at 0x7f7c1afe0790>]"
      ]
     },
     "execution_count": 39,
     "metadata": {},
     "output_type": "execute_result"
    },
    {
     "data": {
      "image/png": "[encoded data removed]",
      "text/plain": [
       "<Figure size 432x288 with 1 Axes>"
      ]
     },
     "metadata": {
      "needs_background": "light"
     },
     "output_type": "display_data"
    }
   ],
   "source": [
    "def f(x, background, mu, gamma):\n",
    "    return (\n",
    "        background\n",
    "        + (1 - background) * gamma**2 / ((x - mu) ** 2 + gamma**2) / np.pi / gamma\n",
    "    )\n",
    "\n",
    "\n",
    "loss = iminuit.cost.LeastSquares(\n",
    "    h.axes[0].centers, h.values() * norm, np.sqrt(h.variances()) * norm, f\n",
    ")\n",
    "loss.mask = h.variances() > 0\n",
    "\n",
    "minimizer = iminuit.Minuit(loss, background=0, mu=91, gamma=4)\n",
    "\n",
    "minimizer.migrad()\n",
    "minimizer.hesse()\n",
    "\n",
    "(h * norm).plot()\n",
    "plt.plot(loss.x, f(loss.x, *minimizer.values))"
   ]
  }
 ],
 "metadata": {
  "@webio": {
   "lastCommId": null,
   "lastKernelId": null
  },
  "kernelspec": {
   "display_name": "Python 3",
   "language": "python",
   "name": "python3"
  },
  "language_info": {
   "codemirror_mode": {
    "name": "ipython",
    "version": 3
   },
   "file_extension": ".py",
   "mimetype": "text/x-python",
   "name": "python",
   "nbconvert_exporter": "python",
   "pygments_lexer": "ipython3",
   "version": "3.11.9"
  }
 },
 "nbformat": 4,
 "nbformat_minor": 5
}
