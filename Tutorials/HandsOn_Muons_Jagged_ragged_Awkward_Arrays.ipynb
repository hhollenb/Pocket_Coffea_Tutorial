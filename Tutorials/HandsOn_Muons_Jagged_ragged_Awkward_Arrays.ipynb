{
 "cells": [
  {
   "cell_type": "markdown",
   "id": "3df9286d",
   "metadata": {},
   "source": [
    "# Practical Exercise: Reconstructing the Z Boson!\n",
    "\n",
    "It's time to apply what we've learned! In this exercise, we will perform a classic particle physics analysis: we will search for the Z boson (Z) from its decay into two muons $(Z \\ to \\ \\mu+\\mu−)$.\n",
    "Objective: Create pairs of muons, calculate their invariant mass, and visualize the Z boson peak in a histogram."
   ]
  },
  {
   "cell_type": "code",
   "execution_count": 1,
   "id": "119e3e3b",
   "metadata": {},
   "outputs": [],
   "source": [
    "import uproot\n",
    "import awkward as ak\n",
    "import numpy as np\n",
    "import hist \n",
    "import particle, hepunits"
   ]
  },
  {
   "cell_type": "markdown",
   "id": "122b511b",
   "metadata": {},
   "source": [
    "### Step 1: Upload the relevant data\n",
    "\n",
    "We already know how to open a file and access the TTree. But this time, we don't want all the branches (there could be hundreds).\n",
    "\n",
    "Your task: Load only the branches we need for the muons: their transverse momentum (pt), eta, phi, and charge. Let's use the first 10,000 events to get good statistics.\n",
    "\n",
    "Hint: The tree.arrays() method has a filter_name argument that accepts regular expressions (regex) to select branches by name."
   ]
  },
  {
   "cell_type": "code",
   "execution_count": 3,
   "id": "a2da1ec0",
   "metadata": {},
   "outputs": [],
   "source": [
    "file = uproot.open(\"root://eospublic.cern.ch//eos/opendata/cms/derived-data/AOD2NanoAODOutreachTool/Run2012BC_DoubleMuParked_Muons.root\")\n",
    "\n",
    "tree = file[\"Events\"]"
   ]
  },
  {
   "cell_type": "code",
   "execution_count": 4,
   "id": "191b8664",
   "metadata": {},
   "outputs": [
    {
     "data": {
      "text/plain": [
       "{'Events;75': 'TTree', 'Events;74': 'TTree'}"
      ]
     },
     "execution_count": 4,
     "metadata": {},
     "output_type": "execute_result"
    }
   ],
   "source": [
    "file.classnames()"
   ]
  },
  {
   "cell_type": "code",
   "execution_count": 5,
   "id": "713acb63",
   "metadata": {},
   "outputs": [
    {
     "name": "stdout",
     "output_type": "stream",
     "text": [
      "name                 | typename                 | interpretation                \n",
      "---------------------+--------------------------+-------------------------------\n",
      "nMuon                | uint32_t                 | AsDtype('>u4')\n",
      "Muon_pt              | float[]                  | AsJagged(AsDtype('>f4'))\n",
      "Muon_eta             | float[]                  | AsJagged(AsDtype('>f4'))\n",
      "Muon_phi             | float[]                  | AsJagged(AsDtype('>f4'))\n",
      "Muon_mass            | float[]                  | AsJagged(AsDtype('>f4'))\n",
      "Muon_charge          | int32_t[]                | AsJagged(AsDtype('>i4'))\n"
     ]
    }
   ],
   "source": [
    "tree.show()"
   ]
  },
  {
   "cell_type": "code",
   "execution_count": 6,
   "id": "cdd616b0",
   "metadata": {},
   "outputs": [],
   "source": [
    "arrays = tree.arrays(filter_name=\"/Muon_(pt|eta|phi|charge)/\", entry_stop = 10000)"
   ]
  },
  {
   "cell_type": "markdown",
   "id": "964d4482",
   "metadata": {},
   "source": [
    "We have the data in separate awkward arrays (arrays[“Muon_pt”], arrays[‘Muon_eta’], etc.). To work more comfortably, it is better to group them so that we have a list of “muons,” where each muon has all its properties together.\n",
    "\n",
    "Your task: Use an awkward function to “compress” the separate arrays into a single array of muons.\n",
    "\n",
    "Hint: What function allows us to combine several arrays into an array of records (structs)?"
   ]
  },
  {
   "cell_type": "code",
   "execution_count": 9,
   "id": "600ae654",
   "metadata": {},
   "outputs": [],
   "source": [
    "muons = ak.zip(\n",
    "    {\n",
    "        \"pt\": arrays[\"Muon_pt\"],\n",
    "        \"eta\": arrays[\"Muon_eta\"],\n",
    "        \"phi\": arrays[\"Muon_phi\"],\n",
    "        \"charge\": arrays[\"Muon_charge\"],\n",
    "    }\n",
    "\n",
    ")"
   ]
  },
  {
   "cell_type": "markdown",
   "id": "e9703561",
   "metadata": {},
   "source": [
    "To see the difference, we can inspect the “type” of the arrays before and after ak.zip."
   ]
  },
  {
   "cell_type": "code",
   "execution_count": 10,
   "id": "30b51699",
   "metadata": {},
   "outputs": [
    {
     "data": {
      "text/plain": [
       "ArrayType(RecordType([ListType(NumpyType('float32')), ListType(NumpyType('float32')), ListType(NumpyType('float32')), ListType(NumpyType('int32'))], ['Muon_pt', 'Muon_eta', 'Muon_phi', 'Muon_charge']), 10000, None)"
      ]
     },
     "execution_count": 10,
     "metadata": {},
     "output_type": "execute_result"
    }
   ],
   "source": [
    "arrays.type"
   ]
  },
  {
   "cell_type": "code",
   "execution_count": 11,
   "id": "d719e099",
   "metadata": {},
   "outputs": [
    {
     "data": {
      "text/plain": [
       "ArrayType(ListType(RecordType([NumpyType('float32'), NumpyType('float32'), NumpyType('float32'), NumpyType('int32')], ['pt', 'eta', 'phi', 'charge'])), 10000, None)"
      ]
     },
     "execution_count": 11,
     "metadata": {},
     "output_type": "execute_result"
    }
   ],
   "source": [
    "muons.type"
   ]
  },
  {
   "cell_type": "markdown",
   "id": "9882cf45",
   "metadata": {},
   "source": [
    "### Step 3: Create muon pairs\n",
    "\n",
    "To find the Z boson, we need to form all possible pairs of muons in each event.\n",
    "\n",
    "Your task: Use an awkward function to generate combinations of 2 muons from your muons array.\n",
    "\n",
    "Once you have the pairs, “unzip” them into two separate arrays: $\\mu_1$ and $\\mu_2$."
   ]
  },
  {
   "cell_type": "code",
   "execution_count": 12,
   "id": "429c8daa",
   "metadata": {},
   "outputs": [
    {
     "data": {
      "text/plain": [
       "ArrayType(ListType(RecordType([RecordType([NumpyType('float32'), NumpyType('float32'), NumpyType('float32'), NumpyType('int32')], ['pt', 'eta', 'phi', 'charge']), RecordType([NumpyType('float32'), NumpyType('float32'), NumpyType('float32'), NumpyType('int32')], ['pt', 'eta', 'phi', 'charge'])], None)), 10000, None)"
      ]
     },
     "execution_count": 12,
     "metadata": {},
     "output_type": "execute_result"
    }
   ],
   "source": [
    "pairs = ak.combinations(muons, 2)\n",
    "\n",
    "pairs.type"
   ]
  },
  {
   "cell_type": "markdown",
   "id": "fa9b7ac6",
   "metadata": {},
   "source": [
    "Quick check: Logically, the number of pairs in mu1 and mu2 should be identical for each event. Let's check it out!"
   ]
  },
  {
   "cell_type": "code",
   "execution_count": null,
   "id": "710c474f",
   "metadata": {},
   "outputs": [],
   "source": [
    "mu1, mu2 = ak.unzip(pairs)\n",
    "\n",
    "num_pairs_mu1_per_event = ak.num(mu1, axis=1)\n",
    "num_pairs_mu2_per_event = ak.num(mu2, axis=1)\n",
    "print(f\"Number of pairs in $\\mu_1$ per event (first 10): {num_pairs_mu1_per_event[:10]}\")\n",
    "print(f\"Number of pairs in $\\mu_2$ per event (first 10): {num_pairs_mu2_per_event[:10]}\")"
   ]
  },
  {
   "cell_type": "code",
   "execution_count": 16,
   "id": "ebcaacde",
   "metadata": {},
   "outputs": [
    {
     "name": "stdout",
     "output_type": "stream",
     "text": [
      "Are the lengths the same for each event (first 10)?: [True, True, True, True, True, True, True, True, True, True]\n"
     ]
    }
   ],
   "source": [
    "are_lengths_equal_per_event = (num_pairs_mu1_per_event == num_pairs_mu2_per_event)\n",
    "print(f\"Are the lengths the same for each event (first 10)?: {are_lengths_equal_per_event[:10]}\")"
   ]
  },
  {
   "cell_type": "code",
   "execution_count": 17,
   "id": "d9887fa5",
   "metadata": {},
   "outputs": [
    {
     "name": "stdout",
     "output_type": "stream",
     "text": [
      "\n",
      "Are ALL lengths equal in mu1 and mu2 for each event?: True\n"
     ]
    }
   ],
   "source": [
    "all_lengths_are_equal = ak.all(are_lengths_equal_per_event)\n",
    "print(f\"\\nAre ALL lengths equal in mu1 and mu2 for each event?: {all_lengths_are_equal}\")"
   ]
  },
  {
   "cell_type": "code",
   "execution_count": 18,
   "id": "9075f76e",
   "metadata": {},
   "outputs": [
    {
     "name": "stdout",
     "output_type": "stream",
     "text": [
      "Total number of elements in $\\mu_1$: [1, 1, 0, 6, 6, 3, 1, 1, 1, 1, 1, 1, ..., 1, 1, 1, 3, 3, 6, 6, 1, 1, 1, 1, 1]\n",
      "Total number of elements in $\\mu_2$: [1, 1, 0, 6, 6, 3, 1, 1, 1, 1, 1, 1, ..., 1, 1, 1, 3, 3, 6, 6, 1, 1, 1, 1, 1]\n"
     ]
    }
   ],
   "source": [
    "print(f\"Total number of elements in $\\mu_1$: {ak.num(mu1, axis=1)}\")\n",
    "print(f\"Total number of elements in $\\mu_2$: {ak.num(mu2, axis=1)}\")"
   ]
  },
  {
   "cell_type": "markdown",
   "id": "0af55df8",
   "metadata": {},
   "source": [
    "### Step 4: Calculate the Invariant Mass\n",
    "\n",
    "Since they do have the same lengths, we will use the following formula to calculate the invariant mass of each pair of muons, assuming that their mass is negligible compared to their energy:\n",
    "\n",
    "$\\sqrt{2 * p_{T1} * p_{T2} \\ (cosh(\\eta_1 - \\eta_2) - cos(\\phi_1 - \\phi_2))}$\n",
    "\n",
    "Task: Apply this formula to your arrays $\\mu_1$ and $\\mu_2$.\n",
    "\n",
    "Hint: Thanks to the magic of awkward, you can use numpy functions (np.sqrt, np.cosh, etc.) directly on awkward arrays. The operation will be applied to each pair."
   ]
  },
  {
   "cell_type": "code",
   "execution_count": 20,
   "id": "597a5d8b",
   "metadata": {},
   "outputs": [],
   "source": [
    "mass = np.sqrt(\n",
    "    2 * mu1.pt * mu2.pt * (np.cosh(mu1.eta - mu2.eta) - np.cos(mu1.phi - mu2.phi))\n",
    ")"
   ]
  },
  {
   "cell_type": "markdown",
   "id": "c6f10e80",
   "metadata": {},
   "source": [
    "### Step 5: Visualize! The first histogram\n",
    "\n",
    "Now we have an array mass containing the invariant mass of each pair of muons in each event. Let's make a histogram of all these masses to see what we find.\n",
    "\n",
    "Task: Create a histogram of the masses.\n",
    "\n",
    "Hint: The hist library needs a flat (1D) array to be filled. Use ak.ravel() or ak.flatten() to “flatten” your array of masses."
   ]
  },
  {
   "cell_type": "code",
   "execution_count": 21,
   "id": "b3363607",
   "metadata": {},
   "outputs": [
    {
     "data": {
      "text/plain": [
       "[StairsArtists(stairs=<matplotlib.patches.StepPatch object at 0x7f915a12d250>, errorbar=<ErrorbarContainer object of 3 artists>, legend_artist=<ErrorbarContainer object of 3 artists>)]"
      ]
     },
     "execution_count": 21,
     "metadata": {},
     "output_type": "execute_result"
    },
    {
     "data": {
      "image/png": "[encoded data removed]",
      "text/plain": [
       "<Figure size 432x288 with 1 Axes>"
      ]
     },
     "metadata": {
      "needs_background": "light"
     },
     "output_type": "display_data"
    }
   ],
   "source": [
    "hist.Hist(hist.axis.Regular(120, 0, 120, label=\"mass [GeV]\")).fill(ak.ravel(mass)).plot()"
   ]
  },
  {
   "cell_type": "markdown",
   "id": "0aab6674",
   "metadata": {},
   "source": [
    "We're starting to see a peak around 90 GeV! But there's a lot of “noise” (background). Let's clean it up!"
   ]
  },
  {
   "cell_type": "code",
   "execution_count": 24,
   "id": "637d5763",
   "metadata": {},
   "outputs": [
    {
     "data": {
      "text/html": [
       "<pre>[34.4,\n",
       " 27.9,\n",
       " None,\n",
       " 26.2,\n",
       " 18.2,\n",
       " 4.52,\n",
       " 114,\n",
       " 1.57,\n",
       " 23.7,\n",
       " 0.696,\n",
       " ...,\n",
       " 3.36,\n",
       " 3.53,\n",
       " 4.26,\n",
       " 3.05,\n",
       " 2.2,\n",
       " 24.2,\n",
       " 42.9,\n",
       " 0.252,\n",
       " 93.4]\n",
       "----------------------\n",
       "type: 10000 * ?float32</pre>"
      ],
      "text/plain": [
       "<Array [34.4, 27.9, None, 26.2, ..., 42.9, 0.252, 93.4] type='10000 * ?float32'>"
      ]
     },
     "execution_count": 24,
     "metadata": {},
     "output_type": "execute_result"
    }
   ],
   "source": [
    "ak.max(mass, axis=1)"
   ]
  },
  {
   "cell_type": "markdown",
   "id": "5e46ade9",
   "metadata": {},
   "source": [
    "Some values are None because there is no maximum of an empty list. ak.flatten/ak.ravel remove missing values (None) as well as squashing lists,"
   ]
  },
  {
   "cell_type": "code",
   "execution_count": 25,
   "id": "fff30b91",
   "metadata": {},
   "outputs": [
    {
     "data": {
      "text/html": [
       "<pre>[34.4,\n",
       " 27.9,\n",
       " 26.2,\n",
       " 18.2,\n",
       " 4.52,\n",
       " 114,\n",
       " 1.57,\n",
       " 23.7,\n",
       " 0.696,\n",
       " 27.1,\n",
       " ...,\n",
       " 3.36,\n",
       " 3.53,\n",
       " 4.26,\n",
       " 3.05,\n",
       " 2.2,\n",
       " 24.2,\n",
       " 42.9,\n",
       " 0.252,\n",
       " 93.4]\n",
       "--------------------\n",
       "type: 8880 * float32</pre>"
      ],
      "text/plain": [
       "<Array [34.4, 27.9, 26.2, 18.2, ..., 42.9, 0.252, 93.4] type='8880 * float32'>"
      ]
     },
     "execution_count": 25,
     "metadata": {},
     "output_type": "execute_result"
    }
   ],
   "source": [
    "ak.flatten(ak.max(mass, axis=1), axis=0)"
   ]
  },
  {
   "cell_type": "markdown",
   "id": "b2c249dd",
   "metadata": {},
   "source": [
    "but so does removing the empty lists in the first place."
   ]
  },
  {
   "cell_type": "code",
   "execution_count": 26,
   "id": "5363b239",
   "metadata": {},
   "outputs": [
    {
     "data": {
      "text/html": [
       "<pre>[34.4,\n",
       " 27.9,\n",
       " 26.2,\n",
       " 18.2,\n",
       " 4.52,\n",
       " 114,\n",
       " 1.57,\n",
       " 23.7,\n",
       " 0.696,\n",
       " 27.1,\n",
       " ...,\n",
       " 3.36,\n",
       " 3.53,\n",
       " 4.26,\n",
       " 3.05,\n",
       " 2.2,\n",
       " 24.2,\n",
       " 42.9,\n",
       " 0.252,\n",
       " 93.4]\n",
       "---------------------\n",
       "type: 8880 * ?float32</pre>"
      ],
      "text/plain": [
       "<Array [34.4, 27.9, 26.2, 18.2, ..., 42.9, 0.252, 93.4] type='8880 * ?float32'>"
      ]
     },
     "execution_count": 26,
     "metadata": {},
     "output_type": "execute_result"
    }
   ],
   "source": [
    "ak.max(mass[ak.num(mass) > 0], axis=1)"
   ]
  },
  {
   "cell_type": "markdown",
   "id": "3771e513",
   "metadata": {},
   "source": [
    "### Step 6: Apply physics cuts\n",
    "\n",
    "We can improve our result by applying cuts based on our requirements for the analysis.\n",
    "\n",
    "Task 1: Opposite Charge Cut The Z boson (electrically neutral), so it must decay into oppositely charged muons ($\\mu+\\mu−$). \n",
    "        Filter out the pairs to keep only those where mu1.charge is different from mu2.charge."
   ]
  },
  {
   "cell_type": "code",
   "execution_count": 27,
   "id": "478bfcc1",
   "metadata": {},
   "outputs": [],
   "source": [
    "cut = (mu1.charge != mu2.charge)"
   ]
  },
  {
   "cell_type": "code",
   "execution_count": 28,
   "id": "76f6d4d5",
   "metadata": {},
   "outputs": [
    {
     "data": {
      "text/plain": [
       "[StairsArtists(stairs=<matplotlib.patches.StepPatch object at 0x7f914c4e71d0>, errorbar=<ErrorbarContainer object of 3 artists>, legend_artist=<ErrorbarContainer object of 3 artists>)]"
      ]
     },
     "execution_count": 28,
     "metadata": {},
     "output_type": "execute_result"
    },
    {
     "data": {
      "image/png": "[encoded data removed]",
      "text/plain": [
       "<Figure size 432x288 with 1 Axes>"
      ]
     },
     "metadata": {
      "needs_background": "light"
     },
     "output_type": "display_data"
    }
   ],
   "source": [
    "hist.Hist(hist.axis.Regular(120, 0, 120, label=\"mass [GeV]\")).fill(ak.ravel(mass[cut])).plot()"
   ]
  },
  {
   "cell_type": "markdown",
   "id": "513c8fc8",
   "metadata": {},
   "source": [
    "Much better! The background noise has decreased significantly."
   ]
  },
  {
   "cell_type": "markdown",
   "id": "9d4023b3",
   "metadata": {},
   "source": [
    "Task 2: Select the “Best” Pair In events with more than one valid pair, a common technique is to keep only the pair whose invariant mass is closest to the known mass of the Z (~91.2 GeV)."
   ]
  },
  {
   "cell_type": "code",
   "execution_count": 33,
   "id": "9805b928",
   "metadata": {},
   "outputs": [
    {
     "data": {
      "text/plain": [
       "91.188"
      ]
     },
     "execution_count": 33,
     "metadata": {},
     "output_type": "execute_result"
    }
   ],
   "source": [
    "zmass = particle.Particle.findall(\"Z0\")[0].mass / hepunits.GeV\n",
    "zmass"
   ]
  },
  {
   "cell_type": "code",
   "execution_count": 34,
   "id": "f7f7da5b",
   "metadata": {},
   "outputs": [],
   "source": [
    "which = ak.argmin(abs(mass - zmass), axis=1, keepdims=True)"
   ]
  },
  {
   "cell_type": "code",
   "execution_count": 35,
   "id": "2dc0a591",
   "metadata": {},
   "outputs": [],
   "source": [
    "histogram_data = ak.ravel(mass[which])\n",
    "histogram_data_cleaned = ak.drop_none(histogram_data)"
   ]
  },
  {
   "cell_type": "code",
   "execution_count": 36,
   "id": "2b3bd115",
   "metadata": {},
   "outputs": [
    {
     "data": {
      "text/plain": [
       "[StairsArtists(stairs=<matplotlib.patches.StepPatch object at 0x7f914c278ad0>, errorbar=<ErrorbarContainer object of 3 artists>, legend_artist=<ErrorbarContainer object of 3 artists>)]"
      ]
     },
     "execution_count": 36,
     "metadata": {},
     "output_type": "execute_result"
    },
    {
     "data": {
      "image/png": "[encoded data removed]",
      "text/plain": [
       "<Figure size 432x288 with 1 Axes>"
      ]
     },
     "metadata": {
      "needs_background": "light"
     },
     "output_type": "display_data"
    }
   ],
   "source": [
    "hist.Hist(hist.axis.Regular(120, 0, 120, label=\"mass [GeV]\")).fill(histogram_data_cleaned).plot()"
   ]
  },
  {
   "cell_type": "markdown",
   "id": "7d1752f4",
   "metadata": {},
   "source": [
    "Congratulations! You have just performed your first physics analysis, from reading the data to reconstructing a particle and visualizing it. All of these steps are the foundation of what you will do with more advanced tools such as pocket-coffea."
   ]
  }
 ],
 "metadata": {
  "kernelspec": {
   "display_name": "Python 3",
   "language": "python",
   "name": "python3"
  },
  "language_info": {
   "codemirror_mode": {
    "name": "ipython",
    "version": 3
   },
   "file_extension": ".py",
   "mimetype": "text/x-python",
   "name": "python",
   "nbconvert_exporter": "python",
   "pygments_lexer": "ipython3",
   "version": "3.11.9"
  }
 },
 "nbformat": 4,
 "nbformat_minor": 5
}
