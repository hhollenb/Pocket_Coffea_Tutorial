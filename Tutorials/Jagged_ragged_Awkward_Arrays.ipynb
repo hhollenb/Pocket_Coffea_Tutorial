{
 "cells": [
  {
   "cell_type": "markdown",
   "id": "8b771a33",
   "metadata": {},
   "source": [
    "# Introduction to Awkward Jagged Arrays"
   ]
  },
  {
   "cell_type": "markdown",
   "id": "f5185b9b",
   "metadata": {},
   "source": [
    "In events produced by collisions in particle accelerators, not all events are the same. One event may have, for example, two muons, another five, and another none.\n",
    "The event information is stored in tuples in a root file. Standard libraries such as NumPy do not handle this “uneven” or jagged data structure well."
   ]
  },
  {
   "cell_type": "markdown",
   "id": "47bde11c",
   "metadata": {},
   "source": [
    "### 1. The problem with NumPy"
   ]
  },
  {
   "cell_type": "code",
   "execution_count": 1,
   "id": "07dbf050",
   "metadata": {},
   "outputs": [],
   "source": [
    "import awkward as ak\n",
    "import numpy as np"
   ]
  },
  {
   "cell_type": "code",
   "execution_count": 2,
   "id": "c242f387",
   "metadata": {},
   "outputs": [
    {
     "ename": "ValueError",
     "evalue": "setting an array element with a sequence. The requested array has an inhomogeneous shape after 1 dimensions. The detected shape was (5,) + inhomogeneous part.",
     "output_type": "error",
     "traceback": [
      "\u001b[0;31m---------------------------------------------------------------------------\u001b[0m",
      "\u001b[0;31mValueError\u001b[0m                                Traceback (most recent call last)",
      "\u001b[0;32m/tmp/ipykernel_581/3643041564.py\u001b[0m in \u001b[0;36m<module>\u001b[0;34m\u001b[0m\n\u001b[1;32m      1\u001b[0m \u001b[0;31m# generates a ValueError\u001b[0m\u001b[0;34m\u001b[0m\u001b[0;34m\u001b[0m\u001b[0m\n\u001b[0;32m----> 2\u001b[0;31m \u001b[0mnp\u001b[0m\u001b[0;34m.\u001b[0m\u001b[0marray\u001b[0m\u001b[0;34m(\u001b[0m\u001b[0;34m[\u001b[0m\u001b[0;34m[\u001b[0m\u001b[0;36m0.0\u001b[0m\u001b[0;34m,\u001b[0m \u001b[0;36m1.1\u001b[0m\u001b[0;34m,\u001b[0m \u001b[0;36m2.2\u001b[0m\u001b[0;34m]\u001b[0m\u001b[0;34m,\u001b[0m \u001b[0;34m[\u001b[0m\u001b[0;34m]\u001b[0m\u001b[0;34m,\u001b[0m \u001b[0;34m[\u001b[0m\u001b[0;36m3.3\u001b[0m\u001b[0;34m,\u001b[0m \u001b[0;36m4.4\u001b[0m\u001b[0;34m]\u001b[0m\u001b[0;34m,\u001b[0m \u001b[0;34m[\u001b[0m\u001b[0;36m5.5\u001b[0m\u001b[0;34m]\u001b[0m\u001b[0;34m,\u001b[0m \u001b[0;34m[\u001b[0m\u001b[0;36m6.6\u001b[0m\u001b[0;34m,\u001b[0m \u001b[0;36m7.7\u001b[0m\u001b[0;34m,\u001b[0m \u001b[0;36m8.8\u001b[0m\u001b[0;34m,\u001b[0m \u001b[0;36m9.9\u001b[0m\u001b[0;34m]\u001b[0m\u001b[0;34m]\u001b[0m\u001b[0;34m)\u001b[0m\u001b[0;34m\u001b[0m\u001b[0;34m\u001b[0m\u001b[0m\n\u001b[0m",
      "\u001b[0;31mValueError\u001b[0m: setting an array element with a sequence. The requested array has an inhomogeneous shape after 1 dimensions. The detected shape was (5,) + inhomogeneous part."
     ]
    }
   ],
   "source": [
    "# generates a ValueError\n",
    "np.array([[0.0, 1.1, 2.2], [], [3.3, 4.4], [5.5], [6.6, 7.7, 8.8, 9.9]])"
   ]
  },
  {
   "cell_type": "markdown",
   "id": "3c4ebb73",
   "metadata": {},
   "source": [
    "The code fails because NumPy requires all arrays to be rectangular (or “square”). That is, each row must have the same number of columns. Since we have lists of different lengths here ([], [5.5], etc.), NumPy cannot create an array and throws a ValueError."
   ]
  },
  {
   "cell_type": "markdown",
   "id": "096c3561",
   "metadata": {},
   "source": [
    "### 2. The solution: awkward-array\n",
    "\n",
    "This is where the awkward-array library stands out. It was designed specifically to handle data with nested and variable-length structures, which is exactly what we need."
   ]
  },
  {
   "cell_type": "code",
   "execution_count": 3,
   "id": "07c87efb",
   "metadata": {},
   "outputs": [
    {
     "data": {
      "text/html": [
       "<pre>[[0, 1.1, 2.2],\n",
       " [],\n",
       " [3.3, 4.4],\n",
       " [5.5],\n",
       " [6.6, 7.7, 8.8, 9.9]]\n",
       "-----------------------\n",
       "type: 5 * var * float64</pre>"
      ],
      "text/plain": [
       "<Array [[0, 1.1, 2.2], [], ..., [6.6, 7.7, 8.8, 9.9]] type='5 * var * float64'>"
      ]
     },
     "execution_count": 3,
     "metadata": {},
     "output_type": "execute_result"
    }
   ],
   "source": [
    "ak.Array([[0.0, 1.1, 2.2], [], [3.3, 4.4], [5.5], [6.6, 7.7, 8.8, 9.9]])"
   ]
  },
  {
   "cell_type": "markdown",
   "id": "4f4a74aa",
   "metadata": {},
   "source": [
    "It works perfectly! awkward creates an ak.Array that preserves the original data structure."
   ]
  },
  {
   "cell_type": "markdown",
   "id": "5560c5e5",
   "metadata": {},
   "source": [
    "### 3. Basic Awkward Array Manipulation\n",
    "\n",
    "The ak.Array behave very similarly to NumPy arrays, but with \"superpowers\" for jagged data."
   ]
  },
  {
   "cell_type": "code",
   "execution_count": 4,
   "id": "f071a82a",
   "metadata": {},
   "outputs": [
    {
     "data": {
      "text/plain": [
       "[[0.0, 1.1, 2.2], [], [3.3, 4.4], [5.5], [6.6, 7.7, 8.8, 9.9]]"
      ]
     },
     "execution_count": 4,
     "metadata": {},
     "output_type": "execute_result"
    }
   ],
   "source": [
    "array = ak.Array([[0.0, 1.1, 2.2], [], [3.3, 4.4], [5.5], [6.6, 7.7, 8.8, 9.9]])\n",
    "array.tolist()"
   ]
  },
  {
   "cell_type": "markdown",
   "id": "d5ba6324",
   "metadata": {},
   "source": [
    "### 4. Slicing (Data selection)"
   ]
  },
  {
   "cell_type": "code",
   "execution_count": 6,
   "id": "e67d960c",
   "metadata": {},
   "outputs": [
    {
     "data": {
      "text/html": [
       "<pre>[[4.4],\n",
       " [],\n",
       " [7.7, 8.8, 9.9]]\n",
       "-----------------------\n",
       "type: 3 * var * float64</pre>"
      ],
      "text/plain": [
       "<Array [[4.4], [], [7.7, 8.8, 9.9]] type='3 * var * float64'>"
      ]
     },
     "execution_count": 6,
     "metadata": {},
     "output_type": "execute_result"
    }
   ],
   "source": [
    "# Access the third event (index 2)\n",
    "#array[2]\n",
    "# <Array [3.3, 4.4] type='2 * float64'>\n",
    "\n",
    "# Access the second particle (index 1) of the last event (index -1)\n",
    "#array[-1, 1]\n",
    "# 7.7\n",
    "\n",
    "# Access the first particle (index 0) of all events from the third onwards\n",
    "#array[2:, 0]\n",
    "# <Array [3.3, 5.5, 6.6] type='3 * float64'>\n",
    "\n",
    "# Access particles from index 1 onwards, for events from the third onwards.\n",
    "array[2:, 1:]\n",
    "# <Array [[4.4], [], [7.7, 8.8, 9.9]] type='3 * var * float64'>"
   ]
  },
  {
   "cell_type": "markdown",
   "id": "a95e8f37",
   "metadata": {},
   "source": [
    "We can also select events using a list of Booleans (Boolean mask) or a list of indexes."
   ]
  },
  {
   "cell_type": "code",
   "execution_count": 7,
   "id": "28e443b9",
   "metadata": {},
   "outputs": [
    {
     "data": {
      "text/html": [
       "<pre>[[0, 1.1, 2.2],\n",
       " [3.3, 4.4],\n",
       " [6.6, 7.7, 8.8, 9.9]]\n",
       "-----------------------\n",
       "type: 3 * var * float64</pre>"
      ],
      "text/plain": [
       "<Array [[0, 1.1, 2.2], ..., [6.6, 7.7, 8.8, 9.9]] type='3 * var * float64'>"
      ]
     },
     "execution_count": 7,
     "metadata": {},
     "output_type": "execute_result"
    }
   ],
   "source": [
    "# Seleccionar el primer, tercer y quinto evento\n",
    "array[[True, False, True, False, True]]\n",
    "# <Array [[0, 1.1, 2.2], [3.3, 4.4], [6.6, 7.7, ...]] type='3 * var * float64'>\n",
    "\n",
    "# Seleccionar eventos por índice (se pueden repetir)\n",
    "#array[[2, 3, 3, 1]]\n",
    "# <Array [[3.3, 4.4], [5.5], [5.5], []] type='4 * var * float64'>"
   ]
  },
  {
   "cell_type": "markdown",
   "id": "e79cb6f5",
   "metadata": {},
   "source": [
    "### 4. Advanced Functions and Cuts\n",
    "\n",
    "This is where you see the true power of awkward for data analysis.\n",
    "\n",
    "The ak.num, is one of the most useful functions: it counts the number of elements per event. For example, the number of muons in each collision."
   ]
  },
  {
   "cell_type": "code",
   "execution_count": 20,
   "id": "866031bc",
   "metadata": {},
   "outputs": [
    {
     "data": {
      "text/html": [
       "<pre>[3,\n",
       " 0,\n",
       " 2,\n",
       " 1,\n",
       " 4]\n",
       "---------------\n",
       "type: 5 * int64</pre>"
      ],
      "text/plain": [
       "<Array [3, 0, 2, 1, 4] type='5 * int64'>"
      ]
     },
     "execution_count": 20,
     "metadata": {},
     "output_type": "execute_result"
    }
   ],
   "source": [
    "ak.num(array)"
   ]
  },
  {
   "cell_type": "markdown",
   "id": "5ccd4bdb",
   "metadata": {},
   "source": [
    "We can use ak.num to create cuts at the event level. For example, select only events that have at least one particle."
   ]
  },
  {
   "cell_type": "code",
   "execution_count": 8,
   "id": "3001688e",
   "metadata": {},
   "outputs": [
    {
     "data": {
      "text/html": [
       "<pre>[True,\n",
       " False,\n",
       " True,\n",
       " True,\n",
       " True]\n",
       "--------------\n",
       "type: 5 * bool</pre>"
      ],
      "text/plain": [
       "<Array [True, False, True, True, True] type='5 * bool'>"
      ]
     },
     "execution_count": 8,
     "metadata": {},
     "output_type": "execute_result"
    }
   ],
   "source": [
    "ak.num(array) > 0"
   ]
  },
  {
   "cell_type": "markdown",
   "id": "9f440dc9",
   "metadata": {},
   "source": [
    "### 5. Combining cuts\n",
    "\n",
    "Now we can combine these ideas to make complex selections."
   ]
  },
  {
   "cell_type": "code",
   "execution_count": 22,
   "id": "f3208b90",
   "metadata": {},
   "outputs": [
    {
     "data": {
      "text/html": [
       "<pre>[0,\n",
       " 3.3,\n",
       " 5.5,\n",
       " 6.6]\n",
       "-----------------\n",
       "type: 4 * float64</pre>"
      ],
      "text/plain": [
       "<Array [0, 3.3, 5.5, 6.6] type='4 * float64'>"
      ]
     },
     "execution_count": 22,
     "metadata": {},
     "output_type": "execute_result"
    }
   ],
   "source": [
    "array[ak.num(array) > 0, 0]"
   ]
  },
  {
   "cell_type": "code",
   "execution_count": 23,
   "id": "82037398",
   "metadata": {},
   "outputs": [
    {
     "data": {
      "text/html": [
       "<pre>[1.1,\n",
       " 4.4,\n",
       " 7.7]\n",
       "-----------------\n",
       "type: 3 * float64</pre>"
      ],
      "text/plain": [
       "<Array [1.1, 4.4, 7.7] type='3 * float64'>"
      ]
     },
     "execution_count": 23,
     "metadata": {},
     "output_type": "execute_result"
    }
   ],
   "source": [
    "array[ak.num(array) > 1, 1]"
   ]
  },
  {
   "cell_type": "markdown",
   "id": "5f8010a2",
   "metadata": {},
   "source": [
    "### 5. Particle-level cuts\n",
    "\n",
    "We can also create masks to filter particles within each event."
   ]
  },
  {
   "cell_type": "code",
   "execution_count": 9,
   "id": "3ef85bc4",
   "metadata": {},
   "outputs": [
    {
     "data": {
      "text/html": [
       "<pre>[[0, 2.2],\n",
       " [],\n",
       " [4.4],\n",
       " [],\n",
       " [6.6, 8.8]]\n",
       "-----------------------\n",
       "type: 5 * var * float64</pre>"
      ],
      "text/plain": [
       "<Array [[0, 2.2], [], [4.4], [], [6.6, 8.8]] type='5 * var * float64'>"
      ]
     },
     "execution_count": 9,
     "metadata": {},
     "output_type": "execute_result"
    }
   ],
   "source": [
    "cut = array * 10 % 2 == 0\n",
    "\n",
    "array[cut]"
   ]
  },
  {
   "cell_type": "markdown",
   "id": "40d88cf2",
   "metadata": {},
   "source": [
    "This array, cut, is not just an array of booleans. It’s a jagged array of booleans. All of its nested lists fit into array’s nested lists, so it can deeply select numbers, rather than selecting lists."
   ]
  },
  {
   "cell_type": "markdown",
   "id": "8f7e6599",
   "metadata": {},
   "source": [
    "### 6. Application: Read ROOT File Data with uproot\n",
    "\n",
    "As we saw in the previous tutorial, uproot is a library that allows us to read and write ROOT files natively in Python, without needing to have ROOT installed. It integrates perfectly with awkward-array."
   ]
  },
  {
   "cell_type": "code",
   "execution_count": 10,
   "id": "03ad0a44",
   "metadata": {},
   "outputs": [],
   "source": [
    "import uproot"
   ]
  },
  {
   "cell_type": "code",
   "execution_count": 11,
   "id": "aac320f1",
   "metadata": {},
   "outputs": [
    {
     "data": {
      "text/plain": [
       "{'Events;75': 'TTree', 'Events;74': 'TTree'}"
      ]
     },
     "execution_count": 11,
     "metadata": {},
     "output_type": "execute_result"
    }
   ],
   "source": [
    "file = uproot.open(\"root://eospublic.cern.ch//eos/opendata/cms/derived-data/AOD2NanoAODOutreachTool/Run2012BC_DoubleMuParked_Muons.root\")\n",
    "\n",
    "file.classnames()"
   ]
  },
  {
   "cell_type": "code",
   "execution_count": 12,
   "id": "629ba170",
   "metadata": {},
   "outputs": [],
   "source": [
    "tree = file[\"Events\"]"
   ]
  },
  {
   "cell_type": "markdown",
   "id": "bd4ac567",
   "metadata": {},
   "source": [
    "### 7. Reading data and applying cuts\n",
    "\n",
    "Now let's use what we learned from awkward to analyze real data."
   ]
  },
  {
   "cell_type": "code",
   "execution_count": 13,
   "id": "ba79c7dc",
   "metadata": {},
   "outputs": [
    {
     "data": {
      "text/html": [
       "<pre>[[10.8, 15.7],\n",
       " [10.5, 16.3],\n",
       " [3.28],\n",
       " [11.4, 17.6, 9.62, 3.5],\n",
       " [3.28, 3.64, 32.9, 23.7],\n",
       " [3.57, 4.57, 4.37],\n",
       " [57.6, 53],\n",
       " [11.3, 23.9],\n",
       " [10.2, 14.2],\n",
       " [11.5, 3.47]]\n",
       "--------------------------\n",
       "type: 10 * var * float32</pre>"
      ],
      "text/plain": [
       "<Array [[10.8, 15.7], [10.5, ...], ..., [11.5, 3.47]] type='10 * var * float32'>"
      ]
     },
     "execution_count": 13,
     "metadata": {},
     "output_type": "execute_result"
    }
   ],
   "source": [
    "muon_pt = tree[\"Muon_pt\"].array(entry_stop=10)\n",
    "muon_pt"
   ]
  },
  {
   "cell_type": "markdown",
   "id": "0738b208",
   "metadata": {},
   "source": [
    "Particle-level cut: Select individual muons with p_T  > 20 GeV."
   ]
  },
  {
   "cell_type": "code",
   "execution_count": 14,
   "id": "f9f06970",
   "metadata": {},
   "outputs": [
    {
     "data": {
      "text/html": [
       "<pre>[[],\n",
       " [],\n",
       " [],\n",
       " [],\n",
       " [32.9, 23.7],\n",
       " [],\n",
       " [57.6, 53],\n",
       " [23.9],\n",
       " [],\n",
       " []]\n",
       "------------------------\n",
       "type: 10 * var * float32</pre>"
      ],
      "text/plain": [
       "<Array [[], [], [], [], ..., [...], [23.9], [], []] type='10 * var * float32'>"
      ]
     },
     "execution_count": 14,
     "metadata": {},
     "output_type": "execute_result"
    }
   ],
   "source": [
    "particle_cut = muon_pt > 20\n",
    "\n",
    "muon_pt[particle_cut]"
   ]
  },
  {
   "cell_type": "markdown",
   "id": "1017c528",
   "metadata": {},
   "source": [
    "Cut at event level: Select events that have at least one muon with p_T20 GeV."
   ]
  },
  {
   "cell_type": "code",
   "execution_count": 15,
   "id": "d5d9b99e",
   "metadata": {},
   "outputs": [
    {
     "data": {
      "text/html": [
       "<pre>[[3.28, 3.64, 32.9, 23.7],\n",
       " [57.6, 53],\n",
       " [11.3, 23.9]]\n",
       "--------------------------\n",
       "type: 3 * var * float32</pre>"
      ],
      "text/plain": [
       "<Array [[3.28, 3.64, 32.9, 23.7], ..., [11.3, ...]] type='3 * var * float32'>"
      ]
     },
     "execution_count": 15,
     "metadata": {},
     "output_type": "execute_result"
    }
   ],
   "source": [
    "event_cut = ak.any(muon_pt > 20, axis=1)\n",
    "\n",
    "muon_pt[event_cut]"
   ]
  },
  {
   "cell_type": "markdown",
   "id": "f30031e0",
   "metadata": {},
   "source": [
    "Important note: The order of the cuts matters. It is generally more efficient to apply event cuts first to reduce the number of events to be processed. The following code shows a common but subtle sequence:"
   ]
  },
  {
   "cell_type": "code",
   "execution_count": 41,
   "id": "d7ca8d38",
   "metadata": {},
   "outputs": [
    {
     "data": {
      "text/html": [
       "<pre>[[3.28, 3.64, 32.9, 23.7],\n",
       " [57.6, 53],\n",
       " [11.3, 23.9]]\n",
       "-------------------------------\n",
       "type: 3 * option[var * float32]</pre>"
      ],
      "text/plain": [
       "<Array [[3.28, 3.64, 32.9, 23.7], ..., [...]] type='3 * option[var * float32]'>"
      ]
     },
     "execution_count": 41,
     "metadata": {},
     "output_type": "execute_result"
    }
   ],
   "source": [
    "event_cut = ak.max(muon_pt > 20, axis=1)\n",
    "\n",
    "muon_pt[event_cut]"
   ]
  },
  {
   "cell_type": "markdown",
   "id": "8388cb95",
   "metadata": {},
   "source": [
    "The final result is correct: muons with p_T20 from events that had at least one muon with p_T > 20."
   ]
  },
  {
   "cell_type": "code",
   "execution_count": 42,
   "id": "d3bcfa67",
   "metadata": {},
   "outputs": [
    {
     "data": {
      "text/plain": [
       "[[32.911224365234375, 23.72175407409668],\n",
       " [57.6067008972168, 53.04507827758789],\n",
       " [23.906352996826172]]"
      ]
     },
     "execution_count": 42,
     "metadata": {},
     "output_type": "execute_result"
    }
   ],
   "source": [
    "cleaned = muon_pt[particle_cut]\n",
    "\n",
    "final_result = cleaned[event_cut]\n",
    "\n",
    "final_result.tolist()"
   ]
  },
  {
   "cell_type": "markdown",
   "id": "24e49ae4",
   "metadata": {},
   "source": [
    "### 8. Combinatorics in Awkward Array\n",
    "\n",
    "A very common task is to combine particles within an event, for example, to calculate the invariant mass of all muon pairs. awkward has very powerful combinatorial functions.\n",
    "\n",
    "ak.cartesian, creates the Cartesian product of two lists, event by event."
   ]
  },
  {
   "cell_type": "code",
   "execution_count": 16,
   "id": "7cb91a68",
   "metadata": {},
   "outputs": [
    {
     "data": {
      "text/html": [
       "<pre>[[(1, &#x27;a&#x27;), (1, &#x27;b&#x27;), (2, &#x27;a&#x27;), (2, &#x27;b&#x27;), (3, &#x27;a&#x27;), (3, &#x27;b&#x27;)],\n",
       " [],\n",
       " [(5, &#x27;d&#x27;), (7, &#x27;d&#x27;)],\n",
       " [(11, &#x27;e&#x27;), (11, &#x27;f&#x27;)]]\n",
       "--------------------------------------------------------------\n",
       "type: 4 * var * (\n",
       "    int64,\n",
       "    string\n",
       ")</pre>"
      ],
      "text/plain": [
       "<Array [[(1, 'a'), (...), ..., (3, 'b')], ...] type='4 * var * (int64, string)'>"
      ]
     },
     "execution_count": 16,
     "metadata": {},
     "output_type": "execute_result"
    }
   ],
   "source": [
    "numbers = ak.Array([[1, 2, 3], [], [5, 7], [11]])\n",
    "letters = ak.Array([[\"a\", \"b\"], [\"c\"], [\"d\"], [\"e\", \"f\"]])\n",
    "\n",
    "pairs = ak.cartesian((numbers, letters))\n",
    "pairs"
   ]
  },
  {
   "cell_type": "markdown",
   "id": "e0851f8d",
   "metadata": {},
   "source": [
    "The result is an array of “records” (similar to a dict). We can access each part by its name (‘0’, “1”)."
   ]
  },
  {
   "cell_type": "code",
   "execution_count": 48,
   "id": "9355a9d3",
   "metadata": {},
   "outputs": [
    {
     "data": {
      "text/html": [
       "<pre>[[1, 1, 2, 2, 3, 3],\n",
       " [],\n",
       " [5, 7],\n",
       " [11, 11]]\n",
       "---------------------\n",
       "type: 4 * var * int64</pre>"
      ],
      "text/plain": [
       "<Array [[1, 1, 2, 2, 3, 3], [], [5, ...], [11, 11]] type='4 * var * int64'>"
      ]
     },
     "execution_count": 48,
     "metadata": {},
     "output_type": "execute_result"
    }
   ],
   "source": [
    "pairs[\"0\"]"
   ]
  },
  {
   "cell_type": "code",
   "execution_count": 49,
   "id": "5f9e81eb",
   "metadata": {},
   "outputs": [
    {
     "data": {
      "text/html": [
       "<pre>[[&#x27;a&#x27;, &#x27;b&#x27;, &#x27;a&#x27;, &#x27;b&#x27;, &#x27;a&#x27;, &#x27;b&#x27;],\n",
       " [],\n",
       " [&#x27;d&#x27;, &#x27;d&#x27;],\n",
       " [&#x27;e&#x27;, &#x27;f&#x27;]]\n",
       "--------------------------------\n",
       "type: 4 * var * string</pre>"
      ],
      "text/plain": [
       "<Array [['a', 'b', 'a', 'b', 'a', 'b'], [], ..., [...]] type='4 * var * string'>"
      ]
     },
     "execution_count": 49,
     "metadata": {},
     "output_type": "execute_result"
    }
   ],
   "source": [
    "pairs[\"1\"]"
   ]
  },
  {
   "cell_type": "markdown",
   "id": "a624d1c3",
   "metadata": {},
   "source": [
    "There’s also ak.unzip, which extracts every field into a separate array (opposite of ak.zip)."
   ]
  },
  {
   "cell_type": "code",
   "execution_count": 59,
   "id": "a3866a43",
   "metadata": {},
   "outputs": [
    {
     "data": {
      "text/html": [
       "<pre>[[&#x27;a&#x27;, &#x27;b&#x27;, &#x27;a&#x27;, &#x27;b&#x27;, &#x27;a&#x27;, &#x27;b&#x27;],\n",
       " [],\n",
       " [&#x27;d&#x27;, &#x27;d&#x27;],\n",
       " [&#x27;e&#x27;, &#x27;f&#x27;]]\n",
       "--------------------------------\n",
       "type: 4 * var * string</pre>"
      ],
      "text/plain": [
       "<Array [['a', 'b', 'a', 'b', 'a', 'b'], [], ..., [...]] type='4 * var * string'>"
      ]
     },
     "execution_count": 59,
     "metadata": {},
     "output_type": "execute_result"
    }
   ],
   "source": [
    "lefts, rights = ak.unzip(pairs)\n",
    "lefts\n",
    "rights"
   ]
  },
  {
   "cell_type": "markdown",
   "id": "ed5608cd",
   "metadata": {},
   "source": [
    "ak.combinations,Creates combinations of elements from the same array. This is perfect for making pairs of particles."
   ]
  },
  {
   "cell_type": "code",
   "execution_count": 17,
   "id": "b0e6de29",
   "metadata": {},
   "outputs": [
    {
     "data": {
      "text/html": [
       "<pre>[[(1, 2), (1, 3), (2, 3)],\n",
       " [],\n",
       " [(5, 7)],\n",
       " []]\n",
       "--------------------------\n",
       "type: 4 * var * (\n",
       "    int64,\n",
       "    int64\n",
       ")</pre>"
      ],
      "text/plain": [
       "<Array [[(1, 2), (1, ...), (2, 3)], ..., []] type='4 * var * (int64, int64)'>"
      ]
     },
     "execution_count": 17,
     "metadata": {},
     "output_type": "execute_result"
    }
   ],
   "source": [
    "pairs = ak.combinations(numbers, 2)\n",
    "pairs"
   ]
  },
  {
   "cell_type": "code",
   "execution_count": 18,
   "id": "c7435441",
   "metadata": {},
   "outputs": [
    {
     "data": {
      "text/html": [
       "<pre>[[2, 3, 6],\n",
       " [],\n",
       " [35],\n",
       " []]\n",
       "---------------------\n",
       "type: 4 * var * int64</pre>"
      ],
      "text/plain": [
       "<Array [[2, 3, 6], [], [35], []] type='4 * var * int64'>"
      ]
     },
     "execution_count": 18,
     "metadata": {},
     "output_type": "execute_result"
    }
   ],
   "source": [
    "lefts, rights = ak.unzip(pairs)\n",
    "\n",
    "lefts * rights"
   ]
  },
  {
   "cell_type": "markdown",
   "id": "1b643d22",
   "metadata": {},
   "source": [
    "This last step is the basis for calculating complex observables. For example, instead of lefts * rights, you could have a function that calculates the invariant mass from the quadrivectors of lefts and rights."
   ]
  }
 ],
 "metadata": {
  "kernelspec": {
   "display_name": "Python 3",
   "language": "python",
   "name": "python3"
  },
  "language_info": {
   "codemirror_mode": {
    "name": "ipython",
    "version": 3
   },
   "file_extension": ".py",
   "mimetype": "text/x-python",
   "name": "python",
   "nbconvert_exporter": "python",
   "pygments_lexer": "ipython3",
   "version": "3.11.9"
  }
 },
 "nbformat": 4,
 "nbformat_minor": 5
}
