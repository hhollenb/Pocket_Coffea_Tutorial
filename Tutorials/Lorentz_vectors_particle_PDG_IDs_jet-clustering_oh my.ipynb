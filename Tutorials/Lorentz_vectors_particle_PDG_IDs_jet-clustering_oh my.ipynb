{
 "cells": [
  {
   "cell_type": "markdown",
   "id": "15a5706f",
   "metadata": {},
   "source": [
    "# Lorentz vectors\n",
    "\n",
    "### 1. vector: Kinematic Vector Manipulation\n",
    "\n",
    "The vector library is designed to work with Euclidean and Lorentz vectors (quadrivectors) in an efficient and natural way. It integrates seamlessly with NumPy and Awkward Array.\n",
    "\n",
    "Individual Vectors. You can create and operate on individual vectors very easily."
   ]
  },
  {
   "cell_type": "code",
   "execution_count": 2,
   "id": "1fc31c7e",
   "metadata": {},
   "outputs": [
    {
     "name": "stdout",
     "output_type": "stream",
     "text": [
      "Updated sys.path:\n",
      "  - /eos/user/w/wbuitrag/.local/lib/python3.11/site-packages\n",
      "  - /eos/home-i01/w/wbuitrag/SWAN_projects/PocketCoffea\n",
      "  - /cvmfs/sft.cern.ch/lcg/releases/condor/24.0.7-acbb2/x86_64-el9-gcc13-opt/lib/python3\n",
      "  - /cvmfs/sft.cern.ch/lcg/views/LCG_107_swan/x86_64-el9-gcc13-opt/lib/python3.11/site-packages/itk\n",
      "  - /cvmfs/sft.cern.ch/lcg/views/LCG_107_swan/x86_64-el9-gcc13-opt/python\n",
      "  - /cvmfs/sft.cern.ch/lcg/views/LCG_107_swan/x86_64-el9-gcc13-opt/lib\n",
      "  - \n",
      "  - /cvmfs/sft.cern.ch/lcg/views/LCG_107_swan/x86_64-el9-gcc13-opt/lib/python3.11/site-packages\n",
      "  - /usr/local/lib/swan/nb_term_lib\n",
      "  - /cvmfs/sft.cern.ch/lcg/releases/Python/3.11.9-2924c/x86_64-el9-gcc13-opt/lib/python311.zip\n",
      "  - /cvmfs/sft.cern.ch/lcg/releases/Python/3.11.9-2924c/x86_64-el9-gcc13-opt/lib/python3.11\n",
      "  - /cvmfs/sft.cern.ch/lcg/releases/Python/3.11.9-2924c/x86_64-el9-gcc13-opt/lib/python3.11/lib-dynload\n",
      "  - /cvmfs/sft.cern.ch/lcg/releases/Python/3.11.9-2924c/x86_64-el9-gcc13-opt/lib/python3.11/site-packages\n",
      "  - /cvmfs/sft.cern.ch/lcg/views/LCG_107_swan/x86_64-el9-gcc13-opt/lib/python3.11/site-packages/IPython/extensions\n",
      "  - /home/wbuitrag/.ipython\n",
      "skhep_testdata imported successfully!\n"
     ]
    }
   ],
   "source": [
    "import sys\n",
    "import site\n",
    "import numpy as np\n",
    "import awkward as ak\n",
    "import uproot\n",
    "import matplotlib.pyplot as plt\n",
    "\n",
    "# Get the user site-packages path\n",
    "user_site_packages = site.getusersitepackages()\n",
    "\n",
    "# Check if it's already in sys.path to avoid adding duplicates\n",
    "if user_site_packages not in sys.path:\n",
    "    sys.path.insert(0, user_site_packages) \n",
    "\n",
    "print(\"Updated sys.path:\")\n",
    "for p in sys.path:\n",
    "    print(f\"  - {p}\")\n",
    "\n",
    "# Now importing\n",
    "import skhep_testdata\n",
    "print(\"skhep_testdata imported successfully!\")"
   ]
  },
  {
   "cell_type": "code",
   "execution_count": 3,
   "id": "cfbab243",
   "metadata": {},
   "outputs": [
    {
     "data": {
      "text/plain": [
       "1.8011719796199461"
      ]
     },
     "execution_count": 3,
     "metadata": {},
     "output_type": "execute_result"
    }
   ],
   "source": [
    "import vector\n",
    "import skhep_testdata, uproot\n",
    "import awkward as ak\n",
    "\n",
    "one = vector.obj(px=1, py=0, pz=0)\n",
    "two = vector.obj(px=0, py=1, pz=1)\n",
    "\n",
    "one + two\n",
    "\n",
    "one.deltaR(two)"
   ]
  },
  {
   "cell_type": "markdown",
   "id": "3b606e7a",
   "metadata": {},
   "source": [
    "#### one.to_rhophieta()"
   ]
  },
  {
   "cell_type": "code",
   "execution_count": 4,
   "id": "c9463dee",
   "metadata": {},
   "outputs": [
    {
     "data": {
      "text/plain": [
       "MomentumObject3D(pt=1.0, phi=1.5707963267948966, eta=0.881373587019543)"
      ]
     },
     "execution_count": 4,
     "metadata": {},
     "output_type": "execute_result"
    }
   ],
   "source": [
    "two.to_rhophieta()"
   ]
  },
  {
   "cell_type": "markdown",
   "id": "c44d7464",
   "metadata": {},
   "source": [
    "Vectors with NumPy (Structured Arrays)\n",
    "\n",
    "The true power of vectors is seen when applied to large data arrays. Here we use it with NumPy."
   ]
  },
  {
   "cell_type": "code",
   "execution_count": 5,
   "id": "22a202ea",
   "metadata": {},
   "outputs": [],
   "source": [
    "tree = uproot.open(skhep_testdata.data_path(\"uproot-Zmumu.root\"))[\"events\"]"
   ]
  },
  {
   "cell_type": "code",
   "execution_count": 6,
   "id": "ffc4d534",
   "metadata": {},
   "outputs": [],
   "source": [
    "one = ak.to_numpy(tree.arrays(filter_name=[\"E1\", \"p[xyz]1\"]))\n",
    "two = ak.to_numpy(tree.arrays(filter_name=[\"E2\", \"p[xyz]2\"]))"
   ]
  },
  {
   "cell_type": "code",
   "execution_count": 7,
   "id": "c7a28905",
   "metadata": {},
   "outputs": [],
   "source": [
    "one.dtype.names = (\"E\", \"px\", \"py\", \"pz\")\n",
    "two.dtype.names = (\"E\", \"px\", \"py\", \"pz\")"
   ]
  },
  {
   "cell_type": "code",
   "execution_count": 8,
   "id": "3ff75a3b",
   "metadata": {},
   "outputs": [],
   "source": [
    "one = one.view(vector.MomentumNumpy4D)\n",
    "two = two.view(vector.MomentumNumpy4D)"
   ]
  },
  {
   "cell_type": "code",
   "execution_count": 9,
   "id": "7dff73e1",
   "metadata": {},
   "outputs": [
    {
     "data": {
      "text/plain": [
       "MomentumNumpy4D([( -7.0508504 ,   1.31371932, -116.3919462 , 142.82374098),\n",
       "                 ( -6.07723788,   0.86288157, -117.74020834, 144.54679534),\n",
       "                 ( -5.76527367,   0.72893471, -117.22250173, 143.92770728), ...,\n",
       "                 (-35.664423  , -24.9064416 , -226.76744871, 250.05025691),\n",
       "                 (-36.41664408, -25.19899466, -228.38003444, 251.853268  ),\n",
       "                 (-36.30874217, -25.19705013, -228.65597631, 252.14934978)],\n",
       "                dtype=[('x', '<f8'), ('y', '<f8'), ('z', '<f8'), ('t', '<f8')])"
      ]
     },
     "execution_count": 9,
     "metadata": {},
     "output_type": "execute_result"
    }
   ],
   "source": [
    "one + two"
   ]
  },
  {
   "cell_type": "code",
   "execution_count": 10,
   "id": "a0e099b5",
   "metadata": {},
   "outputs": [
    {
     "data": {
      "text/plain": [
       "array([3.10530402, 3.10550819, 3.10547199, ..., 2.81363587, 2.81359933,\n",
       "       2.81354694])"
      ]
     },
     "execution_count": 10,
     "metadata": {},
     "output_type": "execute_result"
    }
   ],
   "source": [
    "one.deltaR(two)"
   ]
  },
  {
   "cell_type": "markdown",
   "id": "05393226",
   "metadata": {},
   "source": [
    "Vectors with Awkward Arrays (Jagged Data)\n",
    "\n",
    "This is the most common use case in particle physics, where we have a variable number of particles per event."
   ]
  },
  {
   "cell_type": "code",
   "execution_count": 11,
   "id": "ada733ff",
   "metadata": {},
   "outputs": [
    {
     "data": {
      "text/plain": [
       "MomentumNumpy3D([(44.7322,  2.74126  , -1.21769), (38.8311, -0.440873 , -1.05139),\n",
       "                 (38.8311, -0.440873 , -1.05139), ...,\n",
       "                 (32.3997,  0.0370275, -1.57044), (32.3997,  0.0370275, -1.57044),\n",
       "                 (32.5076,  0.0369644, -1.57078)],\n",
       "                dtype=[('rho', '<f8'), ('phi', '<f8'), ('eta', '<f8')])"
      ]
     },
     "execution_count": 11,
     "metadata": {},
     "output_type": "execute_result"
    }
   ],
   "source": [
    "one.to_rhophieta()"
   ]
  },
  {
   "cell_type": "code",
   "execution_count": 12,
   "id": "772cd8da",
   "metadata": {},
   "outputs": [
    {
     "data": {
      "text/plain": [
       "MomentumNumpy3D([(37.7582, -0.441078, -1.05138), (44.7322,  2.74126 , -1.21769),\n",
       "                 (44.3927,  2.7413  , -1.21776), ...,\n",
       "                 (72.8781, -2.77524 , -1.4827 ), (73.6852, -2.77519 , -1.48227),\n",
       "                 (73.6852, -2.77519 , -1.48227)],\n",
       "                dtype=[('rho', '<f8'), ('phi', '<f8'), ('eta', '<f8')])"
      ]
     },
     "execution_count": 12,
     "metadata": {},
     "output_type": "execute_result"
    }
   ],
   "source": [
    "two.to_rhophieta()"
   ]
  },
  {
   "cell_type": "markdown",
   "id": "30a2ecce",
   "metadata": {},
   "source": [
    "After vector.register_awkward() is called, \"Momentum2D\", \"Momentum3D\", \"Momentum4D\" are record names that Awkward Array will recognize to get all the vector functions."
   ]
  },
  {
   "cell_type": "code",
   "execution_count": 13,
   "id": "82dc2371",
   "metadata": {},
   "outputs": [],
   "source": [
    "vector.register_awkward()"
   ]
  },
  {
   "cell_type": "code",
   "execution_count": 14,
   "id": "c75b4cb1",
   "metadata": {},
   "outputs": [],
   "source": [
    "tree = uproot.open(skhep_testdata.data_path(\"uproot-HZZ.root\"))[\"events\"]"
   ]
  },
  {
   "cell_type": "code",
   "execution_count": 15,
   "id": "663f0d1f",
   "metadata": {},
   "outputs": [],
   "source": [
    "array = tree.arrays(filter_name=[\"Muon_E\", \"Muon_P[xyz]\"])"
   ]
  },
  {
   "cell_type": "code",
   "execution_count": 16,
   "id": "350afa6b",
   "metadata": {},
   "outputs": [],
   "source": [
    "muons = ak.zip(\n",
    "    {\"px\": array.Muon_Px, \"py\": array.Muon_Py, \"pz\": array.Muon_Pz, \"E\": array.Muon_E},\n",
    "    with_name=\"Momentum4D\",\n",
    ")"
   ]
  },
  {
   "cell_type": "code",
   "execution_count": 17,
   "id": "7eeac974",
   "metadata": {},
   "outputs": [],
   "source": [
    "mu1, mu2 = ak.unzip(ak.combinations(muons, 2))"
   ]
  },
  {
   "cell_type": "code",
   "execution_count": 18,
   "id": "d0d2e46d",
   "metadata": {},
   "outputs": [
    {
     "data": {
      "text/html": [
       "<pre>[[{x: -15.2, y: -11, z: -19.5, t: 94.2}],\n",
       " [],\n",
       " [{x: 49.8, y: 8.08, z: 48.1, t: 102}],\n",
       " [{x: 98.8, y: -99.8, z: 739, t: 758}],\n",
       " [{x: 84.9, y: 92.7, z: -69.6, t: 172}],\n",
       " [{x: 3.43, y: 10.3, z: 28.3, t: 97}],\n",
       " [{x: 42.1, y: -47, z: -151, t: 172}],\n",
       " [],\n",
       " [{x: -41.7, y: 87.6, z: 18.2, t: 133}],\n",
       " [{x: -85.1, y: 18.1, z: 112, t: 172}],\n",
       " ...,\n",
       " [],\n",
       " [],\n",
       " [],\n",
       " [{x: 2.94, y: 18.4, z: -262, t: 273}],\n",
       " [],\n",
       " [],\n",
       " [],\n",
       " [],\n",
       " []]\n",
       "-----------------------------------------\n",
       "type: 2421 * var * Momentum4D[\n",
       "    x: float32,\n",
       "    y: float32,\n",
       "    z: float32,\n",
       "    t: float32\n",
       "]</pre>"
      ],
      "text/plain": [
       "<MomentumArray4D [[{x: -15.2, y: -11, z: ..., ...}], ...] type='2421 * var ...'>"
      ]
     },
     "execution_count": 18,
     "metadata": {},
     "output_type": "execute_result"
    }
   ],
   "source": [
    "mu1 + mu2"
   ]
  },
  {
   "cell_type": "code",
   "execution_count": 19,
   "id": "ee802cad",
   "metadata": {},
   "outputs": [
    {
     "data": {
      "text/html": [
       "<pre>[[2.95],\n",
       " [],\n",
       " [2.13],\n",
       " [1.14],\n",
       " [1.43],\n",
       " [3.44],\n",
       " [1.49],\n",
       " [],\n",
       " [2.87],\n",
       " [1.86],\n",
       " ...,\n",
       " [],\n",
       " [],\n",
       " [],\n",
       " [2.76],\n",
       " [],\n",
       " [],\n",
       " [],\n",
       " [],\n",
       " []]\n",
       "--------------------------\n",
       "type: 2421 * var * float32</pre>"
      ],
      "text/plain": [
       "<Array [[2.95], [], [2.13], ..., [], [], []] type='2421 * var * float32'>"
      ]
     },
     "execution_count": 19,
     "metadata": {},
     "output_type": "execute_result"
    }
   ],
   "source": [
    "mu1.deltaR(mu2)"
   ]
  },
  {
   "cell_type": "code",
   "execution_count": 20,
   "id": "26f9093d",
   "metadata": {},
   "outputs": [
    {
     "data": {
      "text/html": [
       "<pre>[[{rho: 54.2, phi: -2.92, eta: -0.15, px: -52.9, py: -11.7}, {...}],\n",
       " [{rho: 24.4, phi: -1.6, eta: 0.754, px: -0.816, py: -24.4}],\n",
       " [{rho: 53.6, phi: -0.417, eta: 0.207, px: 49, py: -21.7}, {...}],\n",
       " [{rho: 88.6, phi: -1.32, eta: 2.22, px: 22.1, py: -85.8}, {...}],\n",
       " [{rho: 81, phi: 0.979, eta: -0.955, px: 45.2, py: 67.2}, {rho: ..., ...}],\n",
       " [{rho: 41.6, phi: 1.35, eta: -0.345, px: 9.23, py: 40.6}, {...}],\n",
       " [{rho: 44.4, phi: -1.28, eta: -1.76, px: 12.5, py: -42.5}, {...}],\n",
       " [{rho: 38.4, phi: -0.43, eta: 2.11, px: 34.9, py: -16}],\n",
       " [{rho: 106, phi: 2.09, eta: 0.329, px: -53.2, py: 92}, {rho: 12.3, ...}],\n",
       " [{rho: 85.5, phi: 2.47, eta: 0.6, px: -67, py: 53.2}, {rho: 39.5, ...}],\n",
       " ...,\n",
       " [{rho: 35.3, phi: 1.13, eta: -2.19, px: 14.9, py: 32}],\n",
       " [{rho: 42.6, phi: -2.17, eta: -0.437, px: -24.2, py: -35}],\n",
       " [{rho: 43.2, phi: -1.79, eta: -1.19, px: -9.2, py: -42.2}],\n",
       " [{rho: 45, phi: 0.696, eta: -1.92, px: 34.5, py: 28.8}, {rho: 33.2, ...}],\n",
       " [{rho: 41.9, phi: -2.79, eta: 1.18, px: -39.3, py: -14.6}],\n",
       " [{rho: 37.8, phi: -0.384, eta: 2.15, px: 35.1, py: -14.2}],\n",
       " [{rho: 33.5, phi: -2.67, eta: -1.24, px: -29.8, py: -15.3}],\n",
       " [{rho: 63.6, phi: 1.55, eta: 1.67, px: 1.14, py: 63.6}],\n",
       " [{rho: 42.9, phi: -0.98, eta: 1.06, px: 23.9, py: -35.7}]]\n",
       "---------------------------------------------------------------------------\n",
       "type: 2421 * var * Momentum3D[\n",
       "    rho: float32,\n",
       "    phi: float32,\n",
       "    eta: float32,\n",
       "    px: float32,\n",
       "    py: float32\n",
       "]</pre>"
      ],
      "text/plain": [
       "<MomentumArray3D [[{rho: 54.2, phi: ..., ...}, ...], ...] type='2421 * var ...'>"
      ]
     },
     "execution_count": 20,
     "metadata": {},
     "output_type": "execute_result"
    }
   ],
   "source": [
    "muons.to_rhophieta()"
   ]
  },
  {
   "cell_type": "markdown",
   "id": "5197216a",
   "metadata": {},
   "source": [
    "### 2. particle: The Particle Database\n",
    "\n",
    "The particle library provides a comprehensive interface to the Particle Data Group (PDG) database. It allows you to access particle properties and work with their identifiers."
   ]
  },
  {
   "cell_type": "code",
   "execution_count": 21,
   "id": "9319e75d",
   "metadata": {},
   "outputs": [],
   "source": [
    "import particle\n",
    "from hepunits import GeV"
   ]
  },
  {
   "cell_type": "code",
   "execution_count": 22,
   "id": "62785016",
   "metadata": {},
   "outputs": [
    {
     "data": {
      "text/plain": [
       "[<Particle: name=\"pi0\", pdgid=111, mass=134.9768 ± 0.0005 MeV>,\n",
       " <Particle: name=\"pi+\", pdgid=211, mass=139.57039 ± 0.00018 MeV>,\n",
       " <Particle: name=\"pi-\", pdgid=-211, mass=139.57039 ± 0.00018 MeV>,\n",
       " <Particle: name=\"pi(2)(1670)0\", pdgid=10115, mass=1670.6 + 2.9 - 1.2 MeV>,\n",
       " <Particle: name=\"pi(2)(1670)+\", pdgid=10215, mass=1670.6 + 2.9 - 1.2 MeV>,\n",
       " <Particle: name=\"pi(2)(1670)-\", pdgid=-10215, mass=1670.6 + 2.9 - 1.2 MeV>,\n",
       " <Particle: name=\"pi(1300)0\", pdgid=100111, mass=1300 ± 100 MeV>,\n",
       " <Particle: name=\"pi(1300)+\", pdgid=100211, mass=1300 ± 100 MeV>,\n",
       " <Particle: name=\"pi(1300)-\", pdgid=-100211, mass=1300 ± 100 MeV>,\n",
       " <Particle: name=\"pi(1)(1400)0\", pdgid=9000113, mass=None>,\n",
       " <Particle: name=\"pi(1)(1400)+\", pdgid=9000213, mass=None>,\n",
       " <Particle: name=\"pi(1)(1400)-\", pdgid=-9000213, mass=None>,\n",
       " <Particle: name=\"pi(1800)0\", pdgid=9010111, mass=1810 + 9 - 11 MeV>,\n",
       " <Particle: name=\"pi(1)(1600)0\", pdgid=9010113, mass=1645 + 40 - 17 MeV>,\n",
       " <Particle: name=\"pi(1800)+\", pdgid=9010211, mass=1810 + 9 - 11 MeV>,\n",
       " <Particle: name=\"pi(1800)-\", pdgid=-9010211, mass=1810 + 9 - 11 MeV>,\n",
       " <Particle: name=\"pi(1)(1600)+\", pdgid=9010213, mass=1645 + 40 - 17 MeV>,\n",
       " <Particle: name=\"pi(1)(1600)-\", pdgid=-9010213, mass=1645 + 40 - 17 MeV>]"
      ]
     },
     "execution_count": 22,
     "metadata": {},
     "output_type": "execute_result"
    }
   ],
   "source": [
    "particle.Particle.findall(\"pi\")"
   ]
  },
  {
   "cell_type": "code",
   "execution_count": 24,
   "id": "18a5f480",
   "metadata": {},
   "outputs": [],
   "source": [
    "z_boson = particle.Particle.from_name(\"Z0\")"
   ]
  },
  {
   "cell_type": "code",
   "execution_count": 25,
   "id": "9fa60680",
   "metadata": {},
   "outputs": [
    {
     "data": {
      "text/plain": [
       "(91.188, 2.4955)"
      ]
     },
     "execution_count": 25,
     "metadata": {},
     "output_type": "execute_result"
    }
   ],
   "source": [
    "z_boson.mass / GeV, z_boson.width / GeV"
   ]
  },
  {
   "cell_type": "code",
   "execution_count": 26,
   "id": "a3de31b6",
   "metadata": {},
   "outputs": [
    {
     "name": "stdout",
     "output_type": "stream",
     "text": [
      "Name: Z0             ID: 23           Latex: $Z^{0}$\n",
      "Mass  = 91188.0 ± 2.0 MeV\n",
      "Width = 2495.5 ± 2.3 MeV\n",
      "Q (charge)        = 0       J (total angular) = 1.0      P (space parity) = None\n",
      "C (charge parity) = None    I (isospin)       = None     G (G-parity)     = None\n",
      "    Antiparticle name: Z0 (antiparticle status: Same)\n"
     ]
    }
   ],
   "source": [
    "print(z_boson.describe())"
   ]
  },
  {
   "cell_type": "code",
   "execution_count": 27,
   "id": "9a037670",
   "metadata": {},
   "outputs": [
    {
     "data": {
      "text/latex": [
       "$\\pi^{0}$"
      ],
      "text/plain": [
       "<Particle: name=\"pi0\", pdgid=111, mass=134.9768 ± 0.0005 MeV>"
      ]
     },
     "execution_count": 27,
     "metadata": {},
     "output_type": "execute_result"
    }
   ],
   "source": [
    "particle.Particle.from_pdgid(111)"
   ]
  },
  {
   "cell_type": "code",
   "execution_count": 28,
   "id": "78e72407",
   "metadata": {},
   "outputs": [
    {
     "data": {
      "text/plain": [
       "[<Particle: name=\"D(s)+\", pdgid=431, mass=1968.35 ± 0.07 MeV>,\n",
       " <Particle: name=\"D(s)-\", pdgid=-431, mass=1968.35 ± 0.07 MeV>,\n",
       " <Particle: name=\"D(s)*+\", pdgid=433, mass=2112.2 ± 0.4 MeV>,\n",
       " <Particle: name=\"D(s)*-\", pdgid=-433, mass=2112.2 ± 0.4 MeV>,\n",
       " <Particle: name=\"D(s2)*(2573)+\", pdgid=435, mass=2569.1 ± 0.8 MeV>,\n",
       " <Particle: name=\"D(s2)*(2573)-\", pdgid=-435, mass=2569.1 ± 0.8 MeV>,\n",
       " <Particle: name=\"D(s0)*(2317)+\", pdgid=10431, mass=2317.8 ± 0.5 MeV>,\n",
       " <Particle: name=\"D(s0)*(2317)-\", pdgid=-10431, mass=2317.8 ± 0.5 MeV>,\n",
       " <Particle: name=\"D(s1)(2536)+\", pdgid=10433, mass=2535.11 ± 0.06 MeV>,\n",
       " <Particle: name=\"D(s1)(2536)-\", pdgid=-10433, mass=2535.11 ± 0.06 MeV>,\n",
       " <Particle: name=\"D(s1)(2460)+\", pdgid=20433, mass=2459.5 ± 0.6 MeV>,\n",
       " <Particle: name=\"D(s1)(2460)-\", pdgid=-20433, mass=2459.5 ± 0.6 MeV>]"
      ]
     },
     "execution_count": 28,
     "metadata": {},
     "output_type": "execute_result"
    }
   ],
   "source": [
    "particle.Particle.findall(\n",
    "    lambda p: p.pdgid.is_meson and p.pdgid.has_strange and p.pdgid.has_charm\n",
    ")"
   ]
  },
  {
   "cell_type": "code",
   "execution_count": 29,
   "id": "f50c20fd",
   "metadata": {},
   "outputs": [
    {
     "name": "stdout",
     "output_type": "stream",
     "text": [
      "A              None\n",
      "J              0.0\n",
      "L              0\n",
      "S              0\n",
      "Z              None\n",
      "abspid         211\n",
      "charge         1.0\n",
      "has_bottom     False\n",
      "has_charm      False\n",
      "has_down       True\n",
      "has_fundamental_anti False\n",
      "has_strange    False\n",
      "has_top        False\n",
      "has_up         True\n",
      "is_Qball       False\n",
      "is_Rhadron     False\n",
      "is_SUSY        False\n",
      "is_baryon      False\n",
      "is_diquark     False\n",
      "is_dyon        False\n",
      "is_excited_quark_or_lepton False\n",
      "is_gauge_boson_or_higgs False\n",
      "is_generator_specific False\n",
      "is_hadron      True\n",
      "is_lepton      False\n",
      "is_meson       True\n",
      "is_nucleus     False\n",
      "is_pentaquark  False\n",
      "is_quark       False\n",
      "is_sm_gauge_boson_or_higgs False\n",
      "is_sm_lepton   False\n",
      "is_sm_quark    False\n",
      "is_special_particle False\n",
      "is_technicolor False\n",
      "is_valid       True\n",
      "j_spin         1\n",
      "l_spin         1\n",
      "s_spin         1\n",
      "three_charge   3\n",
      "\n"
     ]
    }
   ],
   "source": [
    "print(particle.PDGID(211).info())"
   ]
  },
  {
   "cell_type": "code",
   "execution_count": 30,
   "id": "27b8bd7f",
   "metadata": {},
   "outputs": [
    {
     "data": {
      "text/latex": [
       "$K^{+}$"
      ],
      "text/plain": [
       "<Particle: name=\"K+\", pdgid=321, mass=493.677 ± 0.015 MeV>"
      ]
     },
     "execution_count": 30,
     "metadata": {},
     "output_type": "execute_result"
    }
   ],
   "source": [
    "pdgid = particle.Corsika7ID(11).to_pdgid()\n",
    "particle.Particle.from_pdgid(pdgid)"
   ]
  },
  {
   "cell_type": "markdown",
   "id": "fccee6f9",
   "metadata": {},
   "source": [
    "### 3. fastjet: Jet Reconstruction\n",
    "\n",
    "Fastjet is the Python interface to the standard library in HEP for jet reconstruction. It allows particles (traces, calorimeter clusters) to be grouped into jets."
   ]
  },
  {
   "cell_type": "code",
   "execution_count": 31,
   "id": "cdf69328",
   "metadata": {},
   "outputs": [],
   "source": [
    "vector.register_awkward()"
   ]
  },
  {
   "cell_type": "code",
   "execution_count": 32,
   "id": "0e7cea86",
   "metadata": {},
   "outputs": [],
   "source": [
    "picodst = uproot.open(\n",
    "    \"https://pivarski-princeton.s3.amazonaws.com/pythia_ppZee_run17emb.picoDst.root:PicoDst\"\n",
    ")"
   ]
  },
  {
   "cell_type": "code",
   "execution_count": 33,
   "id": "8a15db82",
   "metadata": {},
   "outputs": [],
   "source": [
    "px, py, pz = ak.unzip(\n",
    "    picodst.arrays(filter_name=[\"Track/Track.mPMomentum[XYZ]\"], entry_stop=100)\n",
    ")"
   ]
  },
  {
   "cell_type": "code",
   "execution_count": 34,
   "id": "861ae414",
   "metadata": {},
   "outputs": [],
   "source": [
    "probable_mass = particle.Particle.from_name(\"pi+\").mass / GeV"
   ]
  },
  {
   "cell_type": "code",
   "execution_count": 35,
   "id": "bd3eae1f",
   "metadata": {},
   "outputs": [],
   "source": [
    "pseudojets = ak.zip(\n",
    "    {\"px\": px, \"py\": py, \"pz\": pz, \"mass\": probable_mass}, with_name=\"Momentum4D\"\n",
    ")"
   ]
  },
  {
   "cell_type": "code",
   "execution_count": 36,
   "id": "d5eeef05",
   "metadata": {},
   "outputs": [],
   "source": [
    "good_pseudojets = pseudojets[pseudojets.pt > 0.1]"
   ]
  },
  {
   "cell_type": "code",
   "execution_count": 37,
   "id": "df4ed34f",
   "metadata": {},
   "outputs": [],
   "source": [
    "import fastjet"
   ]
  },
  {
   "cell_type": "code",
   "execution_count": 38,
   "id": "237c0217",
   "metadata": {},
   "outputs": [],
   "source": [
    "jetdef = fastjet.JetDefinition(fastjet.antikt_algorithm, 1.0)"
   ]
  },
  {
   "cell_type": "code",
   "execution_count": 39,
   "id": "0ab00488",
   "metadata": {},
   "outputs": [
    {
     "name": "stdout",
     "output_type": "stream",
     "text": [
      "#--------------------------------------------------------------------------\n",
      "#                         FastJet release 3.4.2\n",
      "#                 M. Cacciari, G.P. Salam and G. Soyez                  \n",
      "#     A software package for jet finding and analysis at colliders      \n",
      "#                           http://fastjet.fr                           \n",
      "#\t                                                                      \n",
      "# Please cite EPJC72(2012)1896 [arXiv:1111.6097] if you use this package\n",
      "# for scientific work and optionally PLB641(2006)57 [hep-ph/0512210].   \n",
      "#                                                                       \n",
      "# FastJet is provided without warranty under the GNU GPL v2 or higher.  \n",
      "# It uses T. Chan's closest pair algorithm, S. Fortune's Voronoi code,\n",
      "# CGAL and 3rd party plugin jet algorithms. See COPYING file for details.\n",
      "#--------------------------------------------------------------------------\n"
     ]
    }
   ],
   "source": [
    "clusterseq = fastjet.ClusterSequence(good_pseudojets, jetdef)"
   ]
  },
  {
   "cell_type": "code",
   "execution_count": 40,
   "id": "b81fdb45",
   "metadata": {},
   "outputs": [
    {
     "data": {
      "text/html": [
       "<pre>[[{px: -0.0423, py: -0.265, pz: 0.0123, E: 0.303}, ..., {px: -2.47, ...}],\n",
       " [{px: -0.0485, py: -0.286, pz: -0.0454, E: 0.326}, ..., {px: -26.5, ...}],\n",
       " [{px: -0.116, py: 0.371, pz: 0.125, E: 0.432}, ..., {px: -47.5, py: ..., ...}],\n",
       " [{px: 0.247, py: 0.413, pz: -0.466, E: 0.684}, ..., {px: -25, py: 22.5, ...}],\n",
       " [{px: 0.148, py: -0.00927, pz: -0.175, E: 0.269}, ..., {px: -15.8, ...}],\n",
       " [{px: -0.187, py: -0.233, pz: -0.533, E: 0.626}, {...}, ..., {px: -27.5, ...}],\n",
       " [{px: 0.148, py: -0.0731, pz: -0.191, E: 0.288}, {...}, ..., {px: 33.1, ...}],\n",
       " [{px: -0.466, py: -0.527, pz: 0.848, E: 1.16}, ..., {px: -37, py: -17.2, ...}],\n",
       " [{px: -0.201, py: -0.313, pz: 0.71, E: 0.869}, ..., {px: 54, py: -66.8, ...}],\n",
       " [{px: 0.17, py: 0.237, pz: -0.375, E: 0.495}, ..., {px: -6, py: 5.22, ...}],\n",
       " ...,\n",
       " [{px: -0.38, py: 0.118, pz: -0.586, E: 0.722}, ..., {px: -30.9, py: 22, ...}],\n",
       " [{px: -0.715, py: 0.0868, pz: -0.941, E: 1.26}, {...}, ..., {px: -53.3, ...}],\n",
       " [{px: -0.361, py: 0.316, pz: 1.01, E: 1.13}, ..., {px: -39.9, py: 9.66, ...}],\n",
       " [{px: 0.125, py: -0.172, pz: 0.293, E: 0.388}, ..., {px: -30.5, py: ..., ...}],\n",
       " [{px: -1.16, py: 0.049, pz: -1.91, E: 2.33}, ..., {px: 29.7, py: -4.89, ...}],\n",
       " [{px: 0.474, py: 0.954, pz: -0.174, E: 1.26}, ..., {px: -46.1, py: 24.1, ...}],\n",
       " [{px: -0.319, py: 0.0186, pz: 0.107, E: 0.452}, ..., {px: 27.1, py: ..., ...}],\n",
       " [{px: -0.63, py: 0.034, pz: -0.309, E: 0.717}, ..., {px: 32.3, py: ..., ...}],\n",
       " [{px: -0.245, py: -0.232, pz: 0.933, E: 1}, ..., {px: -1.82, py: -36.5, ...}]]\n",
       "--------------------------------------------------------------------------------\n",
       "type: 100 * var * Momentum4D[\n",
       "    px: float64,\n",
       "    py: float64,\n",
       "    pz: float64,\n",
       "    E: float64\n",
       "]</pre>"
      ],
      "text/plain": [
       "<MomentumArray4D [[{px: -0.0423, ...}, ..., {...}], ...] type='100 * var * ...'>"
      ]
     },
     "execution_count": 40,
     "metadata": {},
     "output_type": "execute_result"
    }
   ],
   "source": [
    "clusterseq.inclusive_jets()"
   ]
  },
  {
   "cell_type": "code",
   "execution_count": 41,
   "id": "7f86d902",
   "metadata": {},
   "outputs": [
    {
     "data": {
      "text/plain": [
       "(<Array [24, 19, 13, 36, 39, 48, ..., 57, 41, 35, 34, 20, 93] type='100 * int64'>,\n",
       " <Array [8, 6, 6, 7, 8, 9, 8, 7, ..., 9, 8, 7, 6, 7, 4, 11] type='100 * int64'>)"
      ]
     },
     "execution_count": 41,
     "metadata": {},
     "output_type": "execute_result"
    }
   ],
   "source": [
    "ak.num(good_pseudojets), ak.num(clusterseq.inclusive_jets())"
   ]
  },
  {
   "cell_type": "markdown",
   "id": "547f01a4",
   "metadata": {},
   "source": [
    "This fastjet package uses Vector to get coordinate transformations and all the Lorentz vector methods you’re accustomed to having in pseudo-jet objects. I used Particle to impute the mass of particles with only track-level information."
   ]
  }
 ],
 "metadata": {
  "kernelspec": {
   "display_name": "Python 3",
   "language": "python",
   "name": "python3"
  },
  "language_info": {
   "codemirror_mode": {
    "name": "ipython",
    "version": 3
   },
   "file_extension": ".py",
   "mimetype": "text/x-python",
   "name": "python",
   "nbconvert_exporter": "python",
   "pygments_lexer": "ipython3",
   "version": "3.11.9"
  }
 },
 "nbformat": 4,
 "nbformat_minor": 5
}
